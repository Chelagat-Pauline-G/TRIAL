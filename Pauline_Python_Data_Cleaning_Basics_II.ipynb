{
  "nbformat": 4,
  "nbformat_minor": 0,
  "metadata": {
    "colab": {
      "name": "Pauline Python Data Cleaning: Basics II",
      "provenance": [],
      "collapsed_sections": [],
      "toc_visible": true,
      "include_colab_link": true
    },
    "kernelspec": {
      "name": "python3",
      "display_name": "Python 3"
    }
  },
  "cells": [
    {
      "cell_type": "markdown",
      "metadata": {
        "id": "view-in-github",
        "colab_type": "text"
      },
      "source": [
        "<a href=\"https://colab.research.google.com/github/Chelagat-Pauline-G/TRIAL/blob/master/Pauline_Python_Data_Cleaning_Basics_II.ipynb\" target=\"_parent\"><img src=\"https://colab.research.google.com/assets/colab-badge.svg\" alt=\"Open In Colab\"/></a>"
      ]
    },
    {
      "cell_type": "markdown",
      "metadata": {
        "id": "GooEubScAtGS",
        "colab_type": "text"
      },
      "source": [
        "<font color=\"green\">*To start working on this notebook, or any other notebook that we will use in the Moringa Data Science Course, we will need to save our own copy of it. We can do this by clicking File > Save a Copy in Drive. We will then be able to make edits to our own copy of this notebook.*</font>"
      ]
    },
    {
      "cell_type": "markdown",
      "metadata": {
        "id": "_-nl74pjw6Hy",
        "colab_type": "text"
      },
      "source": [
        "# Python Data Cleaning: Basics II"
      ]
    },
    {
      "cell_type": "markdown",
      "metadata": {
        "id": "f0LiYra_ZGrf",
        "colab_type": "text"
      },
      "source": [
        "## 1.0 Importing our Libraries"
      ]
    },
    {
      "cell_type": "code",
      "metadata": {
        "id": "UtnqOM71DRhS",
        "colab_type": "code",
        "colab": {}
      },
      "source": [
        "# Importing the Pandas Library\n",
        "#\n",
        "import pandas as pd\n",
        "\n",
        "# Importing the Numpy Library\n",
        "#\n",
        "import numpy as np"
      ],
      "execution_count": 0,
      "outputs": []
    },
    {
      "cell_type": "markdown",
      "metadata": {
        "id": "zMDkx0IpxCCR",
        "colab_type": "text"
      },
      "source": [
        "## 1.1 Validity"
      ]
    },
    {
      "cell_type": "code",
      "metadata": {
        "id": "O2gayc6ew2qT",
        "colab_type": "code",
        "outputId": "c6607655-d775-476c-91d3-794dd350d531",
        "colab": {
          "base_uri": "https://localhost:8080/",
          "height": 450
        }
      },
      "source": [
        "# Example 1: Irrelevant Data\n",
        "# Irrelevant data are those that are not actually needed, and don’t fit under \n",
        "# the context of the problem we’re trying to solve. \n",
        "# For example, we will drop the Team and Weight columns from the dataset below\n",
        "# since we will not need them in our analysis\n",
        "# \n",
        " \n",
        "# Making the dataframe from csv file \n",
        "data_df = pd.read_csv(\"http://bit.ly/MSDS-NBADataset\", index_col =\"Name\" ) \n",
        "\n",
        "\n",
        "# Dropping the irrelevant columns i.e. Team and Weight\n",
        "# Those values were dropped since axis was set equal to 1 and \n",
        "# the changes were made in the original data frame since inplace was True.\n",
        "data_df.drop([\"Team\", \"Weight\"], axis = 1, inplace = True) \n",
        "  \n",
        "# Display the resulting dataframe\n",
        "data_df  "
      ],
      "execution_count": 0,
      "outputs": [
        {
          "output_type": "execute_result",
          "data": {
            "text/html": [
              "<div>\n",
              "<style scoped>\n",
              "    .dataframe tbody tr th:only-of-type {\n",
              "        vertical-align: middle;\n",
              "    }\n",
              "\n",
              "    .dataframe tbody tr th {\n",
              "        vertical-align: top;\n",
              "    }\n",
              "\n",
              "    .dataframe thead th {\n",
              "        text-align: right;\n",
              "    }\n",
              "</style>\n",
              "<table border=\"1\" class=\"dataframe\">\n",
              "  <thead>\n",
              "    <tr style=\"text-align: right;\">\n",
              "      <th></th>\n",
              "      <th>Number</th>\n",
              "      <th>Position</th>\n",
              "      <th>Age</th>\n",
              "      <th>Height</th>\n",
              "      <th>College</th>\n",
              "      <th>Salary</th>\n",
              "    </tr>\n",
              "    <tr>\n",
              "      <th>Name</th>\n",
              "      <th></th>\n",
              "      <th></th>\n",
              "      <th></th>\n",
              "      <th></th>\n",
              "      <th></th>\n",
              "      <th></th>\n",
              "    </tr>\n",
              "  </thead>\n",
              "  <tbody>\n",
              "    <tr>\n",
              "      <th>Avery Bradley</th>\n",
              "      <td>0.0</td>\n",
              "      <td>PG</td>\n",
              "      <td>25.0</td>\n",
              "      <td>6-2</td>\n",
              "      <td>Texas</td>\n",
              "      <td>7730337.0</td>\n",
              "    </tr>\n",
              "    <tr>\n",
              "      <th>Jae Crowder</th>\n",
              "      <td>99.0</td>\n",
              "      <td>SF</td>\n",
              "      <td>25.0</td>\n",
              "      <td>6-6</td>\n",
              "      <td>Marquette</td>\n",
              "      <td>6796117.0</td>\n",
              "    </tr>\n",
              "    <tr>\n",
              "      <th>John Holland</th>\n",
              "      <td>30.0</td>\n",
              "      <td>SG</td>\n",
              "      <td>27.0</td>\n",
              "      <td>6-5</td>\n",
              "      <td>Boston University</td>\n",
              "      <td>NaN</td>\n",
              "    </tr>\n",
              "    <tr>\n",
              "      <th>R.J. Hunter</th>\n",
              "      <td>28.0</td>\n",
              "      <td>SG</td>\n",
              "      <td>22.0</td>\n",
              "      <td>6-5</td>\n",
              "      <td>Georgia State</td>\n",
              "      <td>1148640.0</td>\n",
              "    </tr>\n",
              "    <tr>\n",
              "      <th>Jonas Jerebko</th>\n",
              "      <td>8.0</td>\n",
              "      <td>PF</td>\n",
              "      <td>29.0</td>\n",
              "      <td>6-10</td>\n",
              "      <td>NaN</td>\n",
              "      <td>5000000.0</td>\n",
              "    </tr>\n",
              "    <tr>\n",
              "      <th>...</th>\n",
              "      <td>...</td>\n",
              "      <td>...</td>\n",
              "      <td>...</td>\n",
              "      <td>...</td>\n",
              "      <td>...</td>\n",
              "      <td>...</td>\n",
              "    </tr>\n",
              "    <tr>\n",
              "      <th>Shelvin Mack</th>\n",
              "      <td>8.0</td>\n",
              "      <td>PG</td>\n",
              "      <td>26.0</td>\n",
              "      <td>6-3</td>\n",
              "      <td>Butler</td>\n",
              "      <td>2433333.0</td>\n",
              "    </tr>\n",
              "    <tr>\n",
              "      <th>Raul Neto</th>\n",
              "      <td>25.0</td>\n",
              "      <td>PG</td>\n",
              "      <td>24.0</td>\n",
              "      <td>6-1</td>\n",
              "      <td>NaN</td>\n",
              "      <td>900000.0</td>\n",
              "    </tr>\n",
              "    <tr>\n",
              "      <th>Tibor Pleiss</th>\n",
              "      <td>21.0</td>\n",
              "      <td>C</td>\n",
              "      <td>26.0</td>\n",
              "      <td>7-3</td>\n",
              "      <td>NaN</td>\n",
              "      <td>2900000.0</td>\n",
              "    </tr>\n",
              "    <tr>\n",
              "      <th>Jeff Withey</th>\n",
              "      <td>24.0</td>\n",
              "      <td>C</td>\n",
              "      <td>26.0</td>\n",
              "      <td>7-0</td>\n",
              "      <td>Kansas</td>\n",
              "      <td>947276.0</td>\n",
              "    </tr>\n",
              "    <tr>\n",
              "      <th>NaN</th>\n",
              "      <td>NaN</td>\n",
              "      <td>NaN</td>\n",
              "      <td>NaN</td>\n",
              "      <td>NaN</td>\n",
              "      <td>NaN</td>\n",
              "      <td>NaN</td>\n",
              "    </tr>\n",
              "  </tbody>\n",
              "</table>\n",
              "<p>458 rows × 6 columns</p>\n",
              "</div>"
            ],
            "text/plain": [
              "               Number Position   Age Height            College     Salary\n",
              "Name                                                                     \n",
              "Avery Bradley     0.0       PG  25.0    6-2              Texas  7730337.0\n",
              "Jae Crowder      99.0       SF  25.0    6-6          Marquette  6796117.0\n",
              "John Holland     30.0       SG  27.0    6-5  Boston University        NaN\n",
              "R.J. Hunter      28.0       SG  22.0    6-5      Georgia State  1148640.0\n",
              "Jonas Jerebko     8.0       PF  29.0   6-10                NaN  5000000.0\n",
              "...               ...      ...   ...    ...                ...        ...\n",
              "Shelvin Mack      8.0       PG  26.0    6-3             Butler  2433333.0\n",
              "Raul Neto        25.0       PG  24.0    6-1                NaN   900000.0\n",
              "Tibor Pleiss     21.0        C  26.0    7-3                NaN  2900000.0\n",
              "Jeff Withey      24.0        C  26.0    7-0             Kansas   947276.0\n",
              "NaN               NaN      NaN   NaN    NaN                NaN        NaN\n",
              "\n",
              "[458 rows x 6 columns]"
            ]
          },
          "metadata": {
            "tags": []
          },
          "execution_count": 3
        }
      ]
    },
    {
      "cell_type": "code",
      "metadata": {
        "id": "iEgdxIlDxdUW",
        "colab_type": "code",
        "outputId": "20b80d19-acac-4033-ca92-3592dedc5dc7",
        "colab": {
          "base_uri": "https://localhost:8080/",
          "height": 119
        }
      },
      "source": [
        "# Example 2: Syntax Errors\n",
        "# We can also remove any syntax error than we find in our records.\n",
        "# Remove white spaces: Extra white spaces at the beginning or the end of a string should be removed. \n",
        "# Pad strings: Strings can be padded with spaces or other characters to a certain width i.e. 313 => 000313 (6 digits). \n",
        "# Let's remove use the str.strip function on the respective column name to strip the leading and trailing space \n",
        "# \n",
        "\n",
        "# Creating the DataFrame to be used\n",
        "df1 = {\n",
        "    'County':['     Nairobi     ', ' Machakos       ', ' Kisumu', 'Nakuru       ', 'Naroko '],\n",
        "   'Score':[73, 83, 75, 84, 61]}\n",
        " \n",
        "df1 = pd.DataFrame(df1,columns=['County','Score'])\n",
        "\n",
        "# Displaying the resulting dataframe\n",
        "df1['County']"
      ],
      "execution_count": 0,
      "outputs": [
        {
          "output_type": "execute_result",
          "data": {
            "text/plain": [
              "0         Nairobi     \n",
              "1      Machakos       \n",
              "2               Kisumu\n",
              "3        Nakuru       \n",
              "4              Naroko \n",
              "Name: County, dtype: object"
            ]
          },
          "metadata": {
            "tags": []
          },
          "execution_count": 4
        }
      ]
    },
    {
      "cell_type": "code",
      "metadata": {
        "id": "ClA86U5UXD1y",
        "colab_type": "code",
        "outputId": "e6632de3-2b43-4bfd-8e15-7a9090e9ab10",
        "colab": {
          "base_uri": "https://localhost:8080/",
          "height": 119
        }
      },
      "source": [
        "# Example 2: Syntax Errors\n",
        "# We can use the str.strip function on the respective column name to strip the leading and trailing spaces  \n",
        "# \n",
        "\n",
        "df1['County'] = df1['County'].str.strip()\n",
        "\n",
        "\n",
        "# Displaying the resulting dataframe\n",
        "df1['County']"
      ],
      "execution_count": 0,
      "outputs": [
        {
          "output_type": "execute_result",
          "data": {
            "text/plain": [
              "0     Nairobi\n",
              "1    Machakos\n",
              "2      Kisumu\n",
              "3      Nakuru\n",
              "4      Naroko\n",
              "Name: County, dtype: object"
            ]
          },
          "metadata": {
            "tags": []
          },
          "execution_count": 4
        }
      ]
    },
    {
      "cell_type": "code",
      "metadata": {
        "id": "tj_-wOu4WlS2",
        "colab_type": "code",
        "outputId": "770035c5-a512-4b96-e23a-b408f8f19158",
        "colab": {
          "base_uri": "https://localhost:8080/",
          "height": 204
        }
      },
      "source": [
        "# Example 3: Syntax Errors\n",
        "# We can also use str.replace() function on the respective column to strip all the spaces \n",
        "# \n",
        "\n",
        "df1['County'] = df1['County'].str.replace(\" \",\"\")\n",
        "\n",
        "# Displaying the resulting dataframe\n",
        "df1"
      ],
      "execution_count": 0,
      "outputs": [
        {
          "output_type": "execute_result",
          "data": {
            "text/html": [
              "<div>\n",
              "<style scoped>\n",
              "    .dataframe tbody tr th:only-of-type {\n",
              "        vertical-align: middle;\n",
              "    }\n",
              "\n",
              "    .dataframe tbody tr th {\n",
              "        vertical-align: top;\n",
              "    }\n",
              "\n",
              "    .dataframe thead th {\n",
              "        text-align: right;\n",
              "    }\n",
              "</style>\n",
              "<table border=\"1\" class=\"dataframe\">\n",
              "  <thead>\n",
              "    <tr style=\"text-align: right;\">\n",
              "      <th></th>\n",
              "      <th>County</th>\n",
              "      <th>Score</th>\n",
              "    </tr>\n",
              "  </thead>\n",
              "  <tbody>\n",
              "    <tr>\n",
              "      <th>0</th>\n",
              "      <td>Nairobi</td>\n",
              "      <td>73</td>\n",
              "    </tr>\n",
              "    <tr>\n",
              "      <th>1</th>\n",
              "      <td>Machakos</td>\n",
              "      <td>83</td>\n",
              "    </tr>\n",
              "    <tr>\n",
              "      <th>2</th>\n",
              "      <td>Kisumu</td>\n",
              "      <td>75</td>\n",
              "    </tr>\n",
              "    <tr>\n",
              "      <th>3</th>\n",
              "      <td>Nakuru</td>\n",
              "      <td>84</td>\n",
              "    </tr>\n",
              "    <tr>\n",
              "      <th>4</th>\n",
              "      <td>Naroko</td>\n",
              "      <td>61</td>\n",
              "    </tr>\n",
              "  </tbody>\n",
              "</table>\n",
              "</div>"
            ],
            "text/plain": [
              "     County  Score\n",
              "0   Nairobi     73\n",
              "1  Machakos     83\n",
              "2    Kisumu     75\n",
              "3    Nakuru     84\n",
              "4    Naroko     61"
            ]
          },
          "metadata": {
            "tags": []
          },
          "execution_count": 5
        }
      ]
    },
    {
      "cell_type": "code",
      "metadata": {
        "id": "QrOLB6WXUniz",
        "colab_type": "code",
        "outputId": "c5dab4c4-f91d-4ae8-9f31-cf3ec8f17ac5",
        "colab": {
          "base_uri": "https://localhost:8080/",
          "height": 204
        }
      },
      "source": [
        "# Example 4: \n",
        "# Fix typos: Strings can be entered in many different ways, and no wonder they can have mistakes.\n",
        "#\n",
        "\n",
        "# If you want to replace certain words - \"Naroko\" with \"Narok\"\n",
        "df1['County'] = df1['County'].str.replace('Naroko', 'Narok')\n",
        "\n",
        "df1 "
      ],
      "execution_count": 0,
      "outputs": [
        {
          "output_type": "execute_result",
          "data": {
            "text/html": [
              "<div>\n",
              "<style scoped>\n",
              "    .dataframe tbody tr th:only-of-type {\n",
              "        vertical-align: middle;\n",
              "    }\n",
              "\n",
              "    .dataframe tbody tr th {\n",
              "        vertical-align: top;\n",
              "    }\n",
              "\n",
              "    .dataframe thead th {\n",
              "        text-align: right;\n",
              "    }\n",
              "</style>\n",
              "<table border=\"1\" class=\"dataframe\">\n",
              "  <thead>\n",
              "    <tr style=\"text-align: right;\">\n",
              "      <th></th>\n",
              "      <th>County</th>\n",
              "      <th>Score</th>\n",
              "    </tr>\n",
              "  </thead>\n",
              "  <tbody>\n",
              "    <tr>\n",
              "      <th>0</th>\n",
              "      <td>Nairobi</td>\n",
              "      <td>73</td>\n",
              "    </tr>\n",
              "    <tr>\n",
              "      <th>1</th>\n",
              "      <td>Machakos</td>\n",
              "      <td>83</td>\n",
              "    </tr>\n",
              "    <tr>\n",
              "      <th>2</th>\n",
              "      <td>Kisumu</td>\n",
              "      <td>75</td>\n",
              "    </tr>\n",
              "    <tr>\n",
              "      <th>3</th>\n",
              "      <td>Nakuru</td>\n",
              "      <td>84</td>\n",
              "    </tr>\n",
              "    <tr>\n",
              "      <th>4</th>\n",
              "      <td>Narok</td>\n",
              "      <td>61</td>\n",
              "    </tr>\n",
              "  </tbody>\n",
              "</table>\n",
              "</div>"
            ],
            "text/plain": [
              "     County  Score\n",
              "0   Nairobi     73\n",
              "1  Machakos     83\n",
              "2    Kisumu     75\n",
              "3    Nakuru     84\n",
              "4     Narok     61"
            ]
          },
          "metadata": {
            "tags": []
          },
          "execution_count": 6
        }
      ]
    },
    {
      "cell_type": "markdown",
      "metadata": {
        "id": "xPMbJS341V-W",
        "colab_type": "text"
      },
      "source": [
        "In this section, we also handle outliers in our datasets. Examples of challenges of identify and handling outliers can be found in a different session."
      ]
    },
    {
      "cell_type": "markdown",
      "metadata": {
        "id": "Y7Dgv6QeG-tw",
        "colab_type": "text"
      },
      "source": [
        "### <font color=\"green\">1.1 Challenges</font>"
      ]
    },
    {
      "cell_type": "code",
      "metadata": {
        "id": "q7UiUX92HD7P",
        "colab_type": "code",
        "outputId": "dfb42b68-9bd7-4178-9064-375180f1b01b",
        "colab": {
          "base_uri": "https://localhost:8080/",
          "height": 204
        }
      },
      "source": [
        "# Challenge 1\n",
        "# We have been given the following dataset to work with\n",
        "# url = http://bit.ly/MSOriginOfRefugees\n",
        "# and we will be answering the following question;\n",
        "# Which territories of origin had the highest no. of refugees from the year 2005 - 2010?\n",
        "# Provide the relevant data for your analysis below. \n",
        "# NB: We are only expected to clean our data. Once finished compare answers with other classmates. \n",
        "#\n",
        "\n",
        "url = ('http://bit.ly/MSOriginOfRefugees')\n",
        "df=pd.read_csv(url)\n",
        "df.head(5)\n"
      ],
      "execution_count": 0,
      "outputs": [
        {
          "output_type": "execute_result",
          "data": {
            "text/html": [
              "<div>\n",
              "<style scoped>\n",
              "    .dataframe tbody tr th:only-of-type {\n",
              "        vertical-align: middle;\n",
              "    }\n",
              "\n",
              "    .dataframe tbody tr th {\n",
              "        vertical-align: top;\n",
              "    }\n",
              "\n",
              "    .dataframe thead th {\n",
              "        text-align: right;\n",
              "    }\n",
              "</style>\n",
              "<table border=\"1\" class=\"dataframe\">\n",
              "  <thead>\n",
              "    <tr style=\"text-align: right;\">\n",
              "      <th></th>\n",
              "      <th>Country Name</th>\n",
              "      <th>Country Code</th>\n",
              "      <th>Year</th>\n",
              "      <th>Value</th>\n",
              "    </tr>\n",
              "  </thead>\n",
              "  <tbody>\n",
              "    <tr>\n",
              "      <th>0</th>\n",
              "      <td>Arab World</td>\n",
              "      <td>ARB</td>\n",
              "      <td>1990</td>\n",
              "      <td>2212498</td>\n",
              "    </tr>\n",
              "    <tr>\n",
              "      <th>1</th>\n",
              "      <td>Arab World</td>\n",
              "      <td>ARB</td>\n",
              "      <td>1991</td>\n",
              "      <td>2408680</td>\n",
              "    </tr>\n",
              "    <tr>\n",
              "      <th>2</th>\n",
              "      <td>Arab World</td>\n",
              "      <td>ARB</td>\n",
              "      <td>1992</td>\n",
              "      <td>2614885</td>\n",
              "    </tr>\n",
              "    <tr>\n",
              "      <th>3</th>\n",
              "      <td>Arab World</td>\n",
              "      <td>ARB</td>\n",
              "      <td>1993</td>\n",
              "      <td>1906599</td>\n",
              "    </tr>\n",
              "    <tr>\n",
              "      <th>4</th>\n",
              "      <td>Arab World</td>\n",
              "      <td>ARB</td>\n",
              "      <td>1994</td>\n",
              "      <td>2001784</td>\n",
              "    </tr>\n",
              "  </tbody>\n",
              "</table>\n",
              "</div>"
            ],
            "text/plain": [
              "  Country Name Country Code  Year    Value\n",
              "0   Arab World          ARB  1990  2212498\n",
              "1   Arab World          ARB  1991  2408680\n",
              "2   Arab World          ARB  1992  2614885\n",
              "3   Arab World          ARB  1993  1906599\n",
              "4   Arab World          ARB  1994  2001784"
            ]
          },
          "metadata": {
            "tags": []
          },
          "execution_count": 7
        }
      ]
    },
    {
      "cell_type": "code",
      "metadata": {
        "id": "KqFCIoW-MpAX",
        "colab_type": "code",
        "colab": {}
      },
      "source": [
        "df.loc[df['Year']==\"2005\"].head(10)\n",
        "\n",
        "data_df.drop([\"Team\", \"Weight\"], axis = 1, inplace = True) "
      ],
      "execution_count": 0,
      "outputs": []
    },
    {
      "cell_type": "code",
      "metadata": {
        "id": "FoneO6CH5uz3",
        "colab_type": "code",
        "outputId": "843d80a1-5c08-422b-c9b9-cd06d7ab1884",
        "colab": {
          "base_uri": "https://localhost:8080/",
          "height": 419
        }
      },
      "source": [
        "df_del=df[0:1242]\n",
        "df_del\n"
      ],
      "execution_count": 0,
      "outputs": [
        {
          "output_type": "execute_result",
          "data": {
            "text/html": [
              "<div>\n",
              "<style scoped>\n",
              "    .dataframe tbody tr th:only-of-type {\n",
              "        vertical-align: middle;\n",
              "    }\n",
              "\n",
              "    .dataframe tbody tr th {\n",
              "        vertical-align: top;\n",
              "    }\n",
              "\n",
              "    .dataframe thead th {\n",
              "        text-align: right;\n",
              "    }\n",
              "</style>\n",
              "<table border=\"1\" class=\"dataframe\">\n",
              "  <thead>\n",
              "    <tr style=\"text-align: right;\">\n",
              "      <th></th>\n",
              "      <th>Country Name</th>\n",
              "      <th>Country Code</th>\n",
              "      <th>Year</th>\n",
              "      <th>Value</th>\n",
              "    </tr>\n",
              "  </thead>\n",
              "  <tbody>\n",
              "    <tr>\n",
              "      <th>0</th>\n",
              "      <td>Arab World</td>\n",
              "      <td>ARB</td>\n",
              "      <td>1990</td>\n",
              "      <td>2212498</td>\n",
              "    </tr>\n",
              "    <tr>\n",
              "      <th>1</th>\n",
              "      <td>Arab World</td>\n",
              "      <td>ARB</td>\n",
              "      <td>1991</td>\n",
              "      <td>2408680</td>\n",
              "    </tr>\n",
              "    <tr>\n",
              "      <th>2</th>\n",
              "      <td>Arab World</td>\n",
              "      <td>ARB</td>\n",
              "      <td>1992</td>\n",
              "      <td>2614885</td>\n",
              "    </tr>\n",
              "    <tr>\n",
              "      <th>3</th>\n",
              "      <td>Arab World</td>\n",
              "      <td>ARB</td>\n",
              "      <td>1993</td>\n",
              "      <td>1906599</td>\n",
              "    </tr>\n",
              "    <tr>\n",
              "      <th>4</th>\n",
              "      <td>Arab World</td>\n",
              "      <td>ARB</td>\n",
              "      <td>1994</td>\n",
              "      <td>2001784</td>\n",
              "    </tr>\n",
              "    <tr>\n",
              "      <th>...</th>\n",
              "      <td>...</td>\n",
              "      <td>...</td>\n",
              "      <td>...</td>\n",
              "      <td>...</td>\n",
              "    </tr>\n",
              "    <tr>\n",
              "      <th>1237</th>\n",
              "      <td>World</td>\n",
              "      <td>WLD</td>\n",
              "      <td>2012</td>\n",
              "      <td>10214014</td>\n",
              "    </tr>\n",
              "    <tr>\n",
              "      <th>1238</th>\n",
              "      <td>World</td>\n",
              "      <td>WLD</td>\n",
              "      <td>2013</td>\n",
              "      <td>11440286</td>\n",
              "    </tr>\n",
              "    <tr>\n",
              "      <th>1239</th>\n",
              "      <td>World</td>\n",
              "      <td>WLD</td>\n",
              "      <td>2014</td>\n",
              "      <td>14124688</td>\n",
              "    </tr>\n",
              "    <tr>\n",
              "      <th>1240</th>\n",
              "      <td>World</td>\n",
              "      <td>WLD</td>\n",
              "      <td>2015</td>\n",
              "      <td>15822098</td>\n",
              "    </tr>\n",
              "    <tr>\n",
              "      <th>1241</th>\n",
              "      <td>World</td>\n",
              "      <td>WLD</td>\n",
              "      <td>2016</td>\n",
              "      <td>16865899</td>\n",
              "    </tr>\n",
              "  </tbody>\n",
              "</table>\n",
              "<p>1242 rows × 4 columns</p>\n",
              "</div>"
            ],
            "text/plain": [
              "     Country Name Country Code  Year     Value\n",
              "0      Arab World          ARB  1990   2212498\n",
              "1      Arab World          ARB  1991   2408680\n",
              "2      Arab World          ARB  1992   2614885\n",
              "3      Arab World          ARB  1993   1906599\n",
              "4      Arab World          ARB  1994   2001784\n",
              "...           ...          ...   ...       ...\n",
              "1237        World          WLD  2012  10214014\n",
              "1238        World          WLD  2013  11440286\n",
              "1239        World          WLD  2014  14124688\n",
              "1240        World          WLD  2015  15822098\n",
              "1241        World          WLD  2016  16865899\n",
              "\n",
              "[1242 rows x 4 columns]"
            ]
          },
          "metadata": {
            "tags": []
          },
          "execution_count": 15
        }
      ]
    },
    {
      "cell_type": "code",
      "metadata": {
        "id": "Ub383OXFOaYs",
        "colab_type": "code",
        "outputId": "49ada6ac-74a5-48d1-b6e5-ef1f44b5a79f",
        "colab": {
          "base_uri": "https://localhost:8080/",
          "height": 103
        }
      },
      "source": [
        "df.loc[df['County']==\"Busia\",'Total'].sum()"
      ],
      "execution_count": 0,
      "outputs": [
        {
          "output_type": "stream",
          "text": [
            "/usr/local/lib/python3.6/dist-packages/pandas/core/ops/array_ops.py:253: FutureWarning: elementwise comparison failed; returning scalar instead, but in the future will perform elementwise comparison\n",
            "  res_values = method(rvalues)\n"
          ],
          "name": "stderr"
        },
        {
          "output_type": "execute_result",
          "data": {
            "text/html": [
              "<div>\n",
              "<style scoped>\n",
              "    .dataframe tbody tr th:only-of-type {\n",
              "        vertical-align: middle;\n",
              "    }\n",
              "\n",
              "    .dataframe tbody tr th {\n",
              "        vertical-align: top;\n",
              "    }\n",
              "\n",
              "    .dataframe thead th {\n",
              "        text-align: right;\n",
              "    }\n",
              "</style>\n",
              "<table border=\"1\" class=\"dataframe\">\n",
              "  <thead>\n",
              "    <tr style=\"text-align: right;\">\n",
              "      <th></th>\n",
              "      <th>Country Name</th>\n",
              "      <th>Country Code</th>\n",
              "      <th>Year</th>\n",
              "      <th>Value</th>\n",
              "    </tr>\n",
              "  </thead>\n",
              "  <tbody>\n",
              "  </tbody>\n",
              "</table>\n",
              "</div>"
            ],
            "text/plain": [
              "Empty DataFrame\n",
              "Columns: [Country Name, Country Code, Year, Value]\n",
              "Index: []"
            ]
          },
          "metadata": {
            "tags": []
          },
          "execution_count": 34
        }
      ]
    },
    {
      "cell_type": "code",
      "metadata": {
        "id": "QgyjGv8l4fXd",
        "colab_type": "code",
        "outputId": "2218f81b-d8ec-459f-d192-329c310f170b",
        "colab": {
          "base_uri": "https://localhost:8080/",
          "height": 136
        }
      },
      "source": [
        "group= df_del.groupby(['Country Name'])['Value'].sum()\n",
        "group.sort_values(ascending=False).head(5)"
      ],
      "execution_count": 0,
      "outputs": [
        {
          "output_type": "execute_result",
          "data": {
            "text/plain": [
              "Country Name\n",
              "World                                       314323400\n",
              "Low & middle income                         313506217\n",
              "IDA & IBRD total                            308994780\n",
              "Fragile and conflict affected situations    223877962\n",
              "IDA total                                   219721214\n",
              "Name: Value, dtype: int64"
            ]
          },
          "metadata": {
            "tags": []
          },
          "execution_count": 29
        }
      ]
    },
    {
      "cell_type": "code",
      "metadata": {
        "id": "Lq8ktZgxHIww",
        "colab_type": "code",
        "outputId": "ae8511db-d8e6-4fdb-f20e-b4905d93d0d6",
        "colab": {
          "base_uri": "https://localhost:8080/",
          "height": 221
        }
      },
      "source": [
        "# Challenge 2\n",
        "# Use the lstrip() function of .str method to check the variables with the leading and trailing spaces.\n",
        "# of the given NBA dataset below. \n",
        "# Later, strip those leading and trailing spaces in the identified variables.\n",
        "# url = http://bit.ly/MSDS-NBADataset\n",
        "# \n",
        "\n",
        "NBA = pd.read_csv(\"http://bit.ly/MSDS-NBADataset\" )\n",
        "NBA\n",
        "\n",
        "#NBA['Name']=NBA['Name'].str.lstrip()\n",
        "#NBA\n",
        "\n",
        "# replacing team name and adding spaces in start and end \n",
        "new = NBA[\"Team\"].replace(\"Boston Celtics\", \"  Boston Celtics  \").copy() \n",
        "new \n",
        "# checking with custom removed space string \n",
        "new.str.lstrip()==\"Boston Celtics  \"\n"
      ],
      "execution_count": 0,
      "outputs": [
        {
          "output_type": "execute_result",
          "data": {
            "text/plain": [
              "0       True\n",
              "1       True\n",
              "2       True\n",
              "3       True\n",
              "4       True\n",
              "       ...  \n",
              "453    False\n",
              "454    False\n",
              "455    False\n",
              "456    False\n",
              "457    False\n",
              "Name: Team, Length: 458, dtype: bool"
            ]
          },
          "metadata": {
            "tags": []
          },
          "execution_count": 20
        }
      ]
    },
    {
      "cell_type": "code",
      "metadata": {
        "id": "YOohec0jHL4-",
        "colab_type": "code",
        "colab": {}
      },
      "source": [
        "# Challenge 3\n",
        "# Remove the text [edit] at the end of the university towns use sing the replace() function of the .str method\n",
        "# Use the following dataset; url = http://bit.ly/MSUniversityTown\n",
        "#\n",
        "url = ('http://bit.ly/MSUniversityTown')\n",
        "df =pd.read_csv(url)\n",
        "df.head(10)\n",
        "\n"
      ],
      "execution_count": 0,
      "outputs": []
    },
    {
      "cell_type": "markdown",
      "metadata": {
        "id": "zxpZyP9yxlzl",
        "colab_type": "text"
      },
      "source": [
        "## 1.2 Accuracy"
      ]
    },
    {
      "cell_type": "markdown",
      "metadata": {
        "id": "PQ8DPOj4HGtQ",
        "colab_type": "text"
      },
      "source": [
        "### <font color=\"green\">1.2 Challenge</font>"
      ]
    },
    {
      "cell_type": "code",
      "metadata": {
        "id": "zLGcCGXDxoKE",
        "colab_type": "code",
        "outputId": "3d82a031-9af3-4d03-946d-93d3a8454422",
        "colab": {
          "base_uri": "https://localhost:8080/",
          "height": 419
        }
      },
      "source": [
        "# Challenge 1: In-record & cross-datasets errors\n",
        "# These errors result from having two or more values in the same row or across \n",
        "# datasets that contradict with each other. \n",
        "# For example, if we have a dataset about the cost of living in cities. \n",
        "# The total column must be equivalent to the sum of rent, transport, and food. \n",
        "# Similarly, a child can’t be married. An employee’s salary can’t be less than the calculated taxes etc.\n",
        "# Using the given dataset below, determine and fix errors where the total population is not a sum of\n",
        "# total male population and total female population \n",
        "# dataset url = http://bit.ly/MSPopulationDistribution\n",
        "# Hint: Review Pandas Basics \n",
        "# \n",
        "data=pd.read_csv('http://bit.ly/MSPopulationDistribution')\n",
        "data=data[['Total_Male_Population','Total_Female_Population','Total_Population']]\n",
        "data=\n"
      ],
      "execution_count": 0,
      "outputs": [
        {
          "output_type": "execute_result",
          "data": {
            "text/html": [
              "<div>\n",
              "<style scoped>\n",
              "    .dataframe tbody tr th:only-of-type {\n",
              "        vertical-align: middle;\n",
              "    }\n",
              "\n",
              "    .dataframe tbody tr th {\n",
              "        vertical-align: top;\n",
              "    }\n",
              "\n",
              "    .dataframe thead th {\n",
              "        text-align: right;\n",
              "    }\n",
              "</style>\n",
              "<table border=\"1\" class=\"dataframe\">\n",
              "  <thead>\n",
              "    <tr style=\"text-align: right;\">\n",
              "      <th></th>\n",
              "      <th>Total_Male_Population</th>\n",
              "      <th>Total_Female_Population</th>\n",
              "      <th>Total_Population</th>\n",
              "    </tr>\n",
              "  </thead>\n",
              "  <tbody>\n",
              "    <tr>\n",
              "      <th>0</th>\n",
              "      <td>1602104</td>\n",
              "      <td>1531414</td>\n",
              "      <td>3133518</td>\n",
              "    </tr>\n",
              "    <tr>\n",
              "      <th>1</th>\n",
              "      <td>486208</td>\n",
              "      <td>451923</td>\n",
              "      <td>938131</td>\n",
              "    </tr>\n",
              "    <tr>\n",
              "      <th>2</th>\n",
              "      <td>204234</td>\n",
              "      <td>205694</td>\n",
              "      <td>409928</td>\n",
              "    </tr>\n",
              "    <tr>\n",
              "      <th>3</th>\n",
              "      <td>155881</td>\n",
              "      <td>152109</td>\n",
              "      <td>307990</td>\n",
              "    </tr>\n",
              "    <tr>\n",
              "      <th>4</th>\n",
              "      <td>146596</td>\n",
              "      <td>142784</td>\n",
              "      <td>289380</td>\n",
              "    </tr>\n",
              "    <tr>\n",
              "      <th>...</th>\n",
              "      <td>...</td>\n",
              "      <td>...</td>\n",
              "      <td>...</td>\n",
              "    </tr>\n",
              "    <tr>\n",
              "      <th>210</th>\n",
              "      <td>11234</td>\n",
              "      <td>10763</td>\n",
              "      <td>21997</td>\n",
              "    </tr>\n",
              "    <tr>\n",
              "      <th>211</th>\n",
              "      <td>10438</td>\n",
              "      <td>11263</td>\n",
              "      <td>21701</td>\n",
              "    </tr>\n",
              "    <tr>\n",
              "      <th>212</th>\n",
              "      <td>8974</td>\n",
              "      <td>9969</td>\n",
              "      <td>18943</td>\n",
              "    </tr>\n",
              "    <tr>\n",
              "      <th>213</th>\n",
              "      <td>9283</td>\n",
              "      <td>8998</td>\n",
              "      <td>18281</td>\n",
              "    </tr>\n",
              "    <tr>\n",
              "      <th>214</th>\n",
              "      <td>4887</td>\n",
              "      <td>4988</td>\n",
              "      <td>9875</td>\n",
              "    </tr>\n",
              "  </tbody>\n",
              "</table>\n",
              "<p>215 rows × 3 columns</p>\n",
              "</div>"
            ],
            "text/plain": [
              "     Total_Male_Population  Total_Female_Population  Total_Population\n",
              "0                  1602104                  1531414           3133518\n",
              "1                   486208                   451923            938131\n",
              "2                   204234                   205694            409928\n",
              "3                   155881                   152109            307990\n",
              "4                   146596                   142784            289380\n",
              "..                     ...                      ...               ...\n",
              "210                  11234                    10763             21997\n",
              "211                  10438                    11263             21701\n",
              "212                   8974                     9969             18943\n",
              "213                   9283                     8998             18281\n",
              "214                   4887                     4988              9875\n",
              "\n",
              "[215 rows x 3 columns]"
            ]
          },
          "metadata": {
            "tags": []
          },
          "execution_count": 31
        }
      ]
    },
    {
      "cell_type": "markdown",
      "metadata": {
        "id": "vPXKeupMxvT3",
        "colab_type": "text"
      },
      "source": [
        "## 1.3 Completeness"
      ]
    },
    {
      "cell_type": "code",
      "metadata": {
        "id": "lmS8QbRnxy5m",
        "colab_type": "code",
        "outputId": "7ec8e1ad-3f42-4a56-a1fc-49c5d725372b",
        "colab": {
          "base_uri": "https://localhost:8080/",
          "height": 187
        }
      },
      "source": [
        "# Example 1: Checking/ Counting Missing Values \n",
        "# \n",
        "\n",
        "# Creating a dataframe to work with\n",
        "df1 = {\n",
        "    'Subject':['Humanities', 'Physical Education', 'Home Science', 'Mathematics', 'Physics',\n",
        "               'Chemistry','Arts'],\n",
        "   'Score':[62, 47, np.nan, 74, np.nan, 77, 85]}\n",
        " \n",
        "df1 = pd.DataFrame(df1,columns=['Subject','Score'])\n",
        "\n",
        "print(df1)\n",
        "\n",
        "# Checking if there is any missing value in dataframe as a whole\n",
        "# Uncomment the following line after running the previous lines\n",
        "df1.isnull()\n",
        "\n",
        "# Checking if there is any missing value across each column\n",
        "# Uncomment the following line after running the previous lines\n",
        "df1.isnull().any()\n",
        "\n",
        "# Checking how many missing values there are across each column\n",
        "# Uncomment the following line after running the previous lines\n",
        "df1.isnull().sum()\n",
        "\n",
        "# Or we can do a quick check to see if we have any missing values at all\n",
        "# Uncomment the following line after running the previous lines\n",
        "print(df1.isnull().values.any())\n",
        "\n",
        "# We might also want to get a total count of missing values\n",
        "# Uncomment the following line after running the previous lines\n",
        "print(df1.isnull().sum().sum())"
      ],
      "execution_count": 0,
      "outputs": [
        {
          "output_type": "stream",
          "text": [
            "              Subject  Score\n",
            "0          Humanities   62.0\n",
            "1  Physical Education   47.0\n",
            "2        Home Science    NaN\n",
            "3         Mathematics   74.0\n",
            "4             Physics    NaN\n",
            "5           Chemistry   77.0\n",
            "6                Arts   85.0\n",
            "True\n",
            "2\n"
          ],
          "name": "stdout"
        }
      ]
    },
    {
      "cell_type": "code",
      "metadata": {
        "id": "zGDJy7rYiZOt",
        "colab_type": "code",
        "outputId": "e1fc4ec5-4ccd-4142-9d9f-235cf1342e26",
        "colab": {
          "base_uri": "https://localhost:8080/",
          "height": 170
        }
      },
      "source": [
        "# Example 2: Dropping Missing Values \n",
        "# If there are only a few null values and you know that deleting values \n",
        "# will not cause adverse effects on your result, \n",
        "# remove them from your DataFrame and store that in a new DataFrame\n",
        "\n",
        "# Droppping all \n",
        "# Uncomment the following 2 lines after running the previous lines\n",
        "clean_df = df1.dropna()\n",
        "print(clean_df)\n",
        "\n",
        "# Verifying that you no longer have any null values by running \n",
        "# Uncomment the following line after running the previous lines\n",
        "print(clean_df.isnull().sum())"
      ],
      "execution_count": 0,
      "outputs": [
        {
          "output_type": "stream",
          "text": [
            "              Subject  Score\n",
            "0          Humanities   62.0\n",
            "1  Physical Education   47.0\n",
            "3         Mathematics   74.0\n",
            "5           Chemistry   77.0\n",
            "6                Arts   85.0\n",
            "Subject    0\n",
            "Score      0\n",
            "dtype: int64\n"
          ],
          "name": "stdout"
        }
      ]
    },
    {
      "cell_type": "code",
      "metadata": {
        "id": "Vg0NXacDkkb3",
        "colab_type": "code",
        "outputId": "7886c73b-0e49-43a6-adce-eefb2d7f75aa",
        "colab": {
          "base_uri": "https://localhost:8080/",
          "height": 357
        }
      },
      "source": [
        "# Exmaple 3: Dropping instances/records/rows with NA missing values \n",
        "# \n",
        "\n",
        "# Dropping all rows with any NA values \n",
        "all_rows_any_na = df1.dropna()\n",
        "print(all_rows_any_na)\n",
        "\n",
        "# Dropping all rows that have all NA values\n",
        "# Uncomment the 2 lines below after running the previous lines\n",
        "all_rows_all_na = df1.dropna(how=\"all\")\n",
        "print(all_rows_all_na)\n",
        "\n",
        "# We can also put a limitation on how many non-null values need to be in a row \n",
        "# we can retain the data that has at least 2 non-null values as shown below\n",
        "# Uncomment the 2 lines below after running the previous lines\n",
        "df1_thresh = df1.dropna(thresh=2)\n",
        "print(df1_thresh)"
      ],
      "execution_count": 0,
      "outputs": [
        {
          "output_type": "stream",
          "text": [
            "              Subject  Score\n",
            "0          Humanities   62.0\n",
            "1  Physical Education   47.0\n",
            "3         Mathematics   74.0\n",
            "5           Chemistry   77.0\n",
            "6                Arts   85.0\n",
            "              Subject  Score\n",
            "0          Humanities   62.0\n",
            "1  Physical Education   47.0\n",
            "2        Home Science    NaN\n",
            "3         Mathematics   74.0\n",
            "4             Physics    NaN\n",
            "5           Chemistry   77.0\n",
            "6                Arts   85.0\n",
            "              Subject  Score\n",
            "0          Humanities   62.0\n",
            "1  Physical Education   47.0\n",
            "3         Mathematics   74.0\n",
            "5           Chemistry   77.0\n",
            "6                Arts   85.0\n"
          ],
          "name": "stdout"
        }
      ]
    },
    {
      "cell_type": "code",
      "metadata": {
        "id": "nci4gXJb1u21",
        "colab_type": "code",
        "outputId": "9face627-cb85-4429-cfb0-523d648b412f",
        "colab": {
          "base_uri": "https://localhost:8080/",
          "height": 391
        }
      },
      "source": [
        "# Example 4: Missing Values\n",
        "# Dropping attributes (variables/columns)\n",
        "# We can apply the same kind of criteria to our columns. \n",
        "# We just need to use the parameter axis=1 in our code. \n",
        "# That means to operate on columns, not rows. \n",
        "# (We could have used axis=0 in our row examples, \n",
        "# but it is 0 by default if you don’t enter anything.)\n",
        "# \n",
        "\n",
        "# Dropping all attributes with any NA values\n",
        "# \n",
        "all_cols_any_na = df1.dropna(axis=1)\n",
        "print(all_cols_any_na)\n",
        "\n",
        "# Dropping all attributes that have all NA values\n",
        "# Uncomment the 2 lines below\n",
        "\n",
        "all_cols_all_na = df1.dropna(axis=1, how=\"all\")\n",
        "print(all_cols_all_na)\n",
        "\n",
        "# We can also put a limitation on how many non-null values need to be in a attributes \n",
        "# we can retain the data that has at least 2 non-null values as shown below\n",
        "# Uncomment the 2 lines below\n",
        "df1_thresh = df1.dropna(thresh=2)\n",
        "print(df1_thresh)"
      ],
      "execution_count": 0,
      "outputs": [
        {
          "output_type": "stream",
          "text": [
            "              Subject\n",
            "0          Humanities\n",
            "1  Physical Education\n",
            "2        Home Science\n",
            "3         Mathematics\n",
            "4             Physics\n",
            "5           Chemistry\n",
            "6                Arts\n",
            "              Subject  Score\n",
            "0          Humanities   62.0\n",
            "1  Physical Education   47.0\n",
            "2        Home Science    NaN\n",
            "3         Mathematics   74.0\n",
            "4             Physics    NaN\n",
            "5           Chemistry   77.0\n",
            "6                Arts   85.0\n",
            "              Subject  Score\n",
            "0          Humanities   62.0\n",
            "1  Physical Education   47.0\n",
            "3         Mathematics   74.0\n",
            "5           Chemistry   77.0\n",
            "6                Arts   85.0\n"
          ],
          "name": "stdout"
        }
      ]
    },
    {
      "cell_type": "code",
      "metadata": {
        "id": "UHD7y5ti10Am",
        "colab_type": "code",
        "outputId": "c49eb886-562b-41d8-dadd-e37a6dbc2b91",
        "colab": {
          "base_uri": "https://localhost:8080/",
          "height": 289
        }
      },
      "source": [
        "# Example 5: Missing Values\n",
        "# Imputing the attribute mean for all missing values\n",
        "# Mean imputation replaces missing values with the mean value of that feature/variable. \n",
        "# Mean imputation is one of the most ‘naive’ imputation methods \n",
        "# because unlike more complex methods like k-nearest neighbors imputation, \n",
        "# it does not use the information we have about an observation to estimate a value for it.\n",
        "\n",
        "# Creating a dataframe to work with\n",
        "subjects_df_mean = {\n",
        "    'Subject':['Humanities', 'Physical Education', 'Home Science', 'Mathematics', 'Physics',\n",
        "               'Chemistry','Arts'],\n",
        "   'Score':[62, 47, np.nan, 74, np.nan, 77, 85]}\n",
        "subjects_df_mean = pd.DataFrame(subjects_df_mean,columns=['Subject','Score'])\n",
        "\n",
        "# printing our dataframe\n",
        "print(subjects_df_mean)\n",
        "\n",
        "# imputing the mean \n",
        "subjects_df_mean['Score'] = subjects_df_mean['Score'].fillna((subjects_df_mean['Score'].mean()))\n",
        "\n",
        "# printing out our updated dataframe\n",
        "print(subjects_df_mean) \n"
      ],
      "execution_count": 0,
      "outputs": [
        {
          "output_type": "stream",
          "text": [
            "              Subject  Score\n",
            "0          Humanities   62.0\n",
            "1  Physical Education   47.0\n",
            "2        Home Science    NaN\n",
            "3         Mathematics   74.0\n",
            "4             Physics    NaN\n",
            "5           Chemistry   77.0\n",
            "6                Arts   85.0\n",
            "              Subject  Score\n",
            "0          Humanities   62.0\n",
            "1  Physical Education   47.0\n",
            "2        Home Science   69.0\n",
            "3         Mathematics   74.0\n",
            "4             Physics   69.0\n",
            "5           Chemistry   77.0\n",
            "6                Arts   85.0\n"
          ],
          "name": "stdout"
        }
      ]
    },
    {
      "cell_type": "code",
      "metadata": {
        "id": "Xk9aj32K15B1",
        "colab_type": "code",
        "outputId": "66e4d20f-a20b-42e6-eaf9-8f99733aaad7",
        "colab": {
          "base_uri": "https://localhost:8080/",
          "height": 289
        }
      },
      "source": [
        "# Example 4: Missing Values\n",
        "# Imputing the attribute median for all missing values\n",
        "# \n",
        "\n",
        "# Creating a dataframe to work with\n",
        "subjects_df_median = {\n",
        "    'Subject':['Humanities', 'Physical Education', 'Home Science', 'Mathematics', 'Physics',\n",
        "               'Chemistry','Arts'],\n",
        "   'Score':[62, 47, np.nan, 74, np.nan, 77, 85]}\n",
        "subjects_df_median = pd.DataFrame(subjects_df_median,columns=['Subject','Score'])\n",
        "\n",
        "# printing our dataframe\n",
        "print(subjects_df_median)\n",
        "\n",
        "# imputing the median \n",
        "subjects_df_median['Score'] = subjects_df_median['Score'].fillna((subjects_df_median['Score'].median()))\n",
        "\n",
        "# printing out our updated dataframe\n",
        "print(subjects_df_median) "
      ],
      "execution_count": 0,
      "outputs": [
        {
          "output_type": "stream",
          "text": [
            "              Subject  Score\n",
            "0          Humanities   62.0\n",
            "1  Physical Education   47.0\n",
            "2        Home Science    NaN\n",
            "3         Mathematics   74.0\n",
            "4             Physics    NaN\n",
            "5           Chemistry   77.0\n",
            "6                Arts   85.0\n",
            "              Subject  Score\n",
            "0          Humanities   62.0\n",
            "1  Physical Education   47.0\n",
            "2        Home Science   74.0\n",
            "3         Mathematics   74.0\n",
            "4             Physics   74.0\n",
            "5           Chemistry   77.0\n",
            "6                Arts   85.0\n"
          ],
          "name": "stdout"
        }
      ]
    },
    {
      "cell_type": "code",
      "metadata": {
        "id": "Fiz_Fl_u1_oh",
        "colab_type": "code",
        "outputId": "d6653e22-a25a-483c-bc33-d4c3086a165b",
        "colab": {
          "base_uri": "https://localhost:8080/",
          "height": 289
        }
      },
      "source": [
        "# Example 5: Missing Values \n",
        "# Imputing the attribute mode for all missing values\n",
        "# \n",
        "# Creating a dataframe to work with\n",
        "subjects_df_mode = {\n",
        "    'Subject':['Humanities', 'Physical Education', 'Home Science', 'Mathematics', 'Physics',\n",
        "               'Chemistry','Arts'],\n",
        "   'Score':[62, 47, np.nan, 74, np.nan, 77, 85]}\n",
        "subjects_df_mode = pd.DataFrame(subjects_df_mode,columns=['Subject','Score'])\n",
        "\n",
        "# printing our dataframe\n",
        "print(subjects_df_mode)\n",
        "\n",
        "# imputing the mode \n",
        "subjects_df_mode['Score'] = subjects_df_mode['Score'].fillna((subjects_df_mode['Score'].mode()))\n",
        "\n",
        "# printing out our updated dataframe\n",
        "print(subjects_df_mode) "
      ],
      "execution_count": 0,
      "outputs": [
        {
          "output_type": "stream",
          "text": [
            "              Subject  Score\n",
            "0          Humanities   62.0\n",
            "1  Physical Education   47.0\n",
            "2        Home Science    NaN\n",
            "3         Mathematics   74.0\n",
            "4             Physics    NaN\n",
            "5           Chemistry   77.0\n",
            "6                Arts   85.0\n",
            "              Subject  Score\n",
            "0          Humanities   62.0\n",
            "1  Physical Education   47.0\n",
            "2        Home Science   74.0\n",
            "3         Mathematics   74.0\n",
            "4             Physics   85.0\n",
            "5           Chemistry   77.0\n",
            "6                Arts   85.0\n"
          ],
          "name": "stdout"
        }
      ]
    },
    {
      "cell_type": "code",
      "metadata": {
        "id": "uEpXn0qbP-Fd",
        "colab_type": "code",
        "outputId": "13390174-a1f4-46e6-9745-ca88ec50f937",
        "colab": {
          "base_uri": "https://localhost:8080/",
          "height": 153
        }
      },
      "source": [
        "# Example 6: Missing Values \n",
        "# Or maybe we just want to fill in missing values with a single value as shown below\n",
        "# \n",
        "\n",
        "df1 = {\n",
        "    'Subject':['Humanities', 'Physical Education', 'Home Science', 'Mathematics', 'Physics',\n",
        "               'Chemistry','Arts'],\n",
        "   'Score':[62, 47, np.nan, 74, np.nan, 77, 85]}\n",
        " \n",
        "df1 = pd.DataFrame(df1,columns=['Subject','Score'])\n",
        "\n",
        "# Replace missing values with a number\n",
        "df1['Score'].fillna(60, inplace=True)\n",
        "\n",
        "print(df1)"
      ],
      "execution_count": 0,
      "outputs": [
        {
          "output_type": "stream",
          "text": [
            "              Subject  Score\n",
            "0          Humanities   62.0\n",
            "1  Physical Education   47.0\n",
            "2        Home Science   60.0\n",
            "3         Mathematics   74.0\n",
            "4             Physics   60.0\n",
            "5           Chemistry   77.0\n",
            "6                Arts   85.0\n"
          ],
          "name": "stdout"
        }
      ]
    },
    {
      "cell_type": "code",
      "metadata": {
        "id": "JDIwtGtHSb48",
        "colab_type": "code",
        "outputId": "3fa3617d-b51a-4faa-c02e-b10daaee1995",
        "colab": {
          "base_uri": "https://localhost:8080/",
          "height": 328
        }
      },
      "source": [
        "# Example 7: Missing Values\n",
        "# Using the following property dataset, we will make a list of missing value types\n",
        "# then load our dataset below\n",
        "# \n",
        "\n",
        "# reading our dataset\n",
        "property_dataset = pd.read_csv(\"http://bit.ly/MS-PropertyDataset\")\n",
        "property_dataset\n",
        "\n",
        "# Now making a list of missing value types found in our dataset\n",
        "# Uncommenting the 3 lines below after running the previous lines\n",
        "missing_values = [\"n/a\", \"na\", \"--\"]\n",
        "property_dataset = pd.read_csv(\"http://bit.ly/MS-PropertyDataset\", na_values = missing_values)\n",
        "property_dataset"
      ],
      "execution_count": 0,
      "outputs": [
        {
          "output_type": "execute_result",
          "data": {
            "text/html": [
              "<div>\n",
              "<style scoped>\n",
              "    .dataframe tbody tr th:only-of-type {\n",
              "        vertical-align: middle;\n",
              "    }\n",
              "\n",
              "    .dataframe tbody tr th {\n",
              "        vertical-align: top;\n",
              "    }\n",
              "\n",
              "    .dataframe thead th {\n",
              "        text-align: right;\n",
              "    }\n",
              "</style>\n",
              "<table border=\"1\" class=\"dataframe\">\n",
              "  <thead>\n",
              "    <tr style=\"text-align: right;\">\n",
              "      <th></th>\n",
              "      <th>PID</th>\n",
              "      <th>ST_NUM</th>\n",
              "      <th>ST_NAME</th>\n",
              "      <th>OWN_OCCUPIED</th>\n",
              "      <th>NUM_BEDROOMS</th>\n",
              "      <th>NUM_BATH</th>\n",
              "      <th>SQ_FT</th>\n",
              "    </tr>\n",
              "  </thead>\n",
              "  <tbody>\n",
              "    <tr>\n",
              "      <th>0</th>\n",
              "      <td>100001000.0</td>\n",
              "      <td>104.0</td>\n",
              "      <td>PUTNAM</td>\n",
              "      <td>Y</td>\n",
              "      <td>3.0</td>\n",
              "      <td>1</td>\n",
              "      <td>1000.0</td>\n",
              "    </tr>\n",
              "    <tr>\n",
              "      <th>1</th>\n",
              "      <td>100002000.0</td>\n",
              "      <td>197.0</td>\n",
              "      <td>LEXINGTON</td>\n",
              "      <td>N</td>\n",
              "      <td>3.0</td>\n",
              "      <td>1.5</td>\n",
              "      <td>NaN</td>\n",
              "    </tr>\n",
              "    <tr>\n",
              "      <th>2</th>\n",
              "      <td>100003000.0</td>\n",
              "      <td>NaN</td>\n",
              "      <td>LEXINGTON</td>\n",
              "      <td>N</td>\n",
              "      <td>NaN</td>\n",
              "      <td>1</td>\n",
              "      <td>850.0</td>\n",
              "    </tr>\n",
              "    <tr>\n",
              "      <th>3</th>\n",
              "      <td>100004000.0</td>\n",
              "      <td>201.0</td>\n",
              "      <td>BERKELEY</td>\n",
              "      <td>12</td>\n",
              "      <td>1.0</td>\n",
              "      <td>NaN</td>\n",
              "      <td>700.0</td>\n",
              "    </tr>\n",
              "    <tr>\n",
              "      <th>4</th>\n",
              "      <td>NaN</td>\n",
              "      <td>203.0</td>\n",
              "      <td>BERKELEY</td>\n",
              "      <td>Y</td>\n",
              "      <td>3.0</td>\n",
              "      <td>2</td>\n",
              "      <td>1600.0</td>\n",
              "    </tr>\n",
              "    <tr>\n",
              "      <th>5</th>\n",
              "      <td>100006000.0</td>\n",
              "      <td>207.0</td>\n",
              "      <td>BERKELEY</td>\n",
              "      <td>Y</td>\n",
              "      <td>NaN</td>\n",
              "      <td>1</td>\n",
              "      <td>800.0</td>\n",
              "    </tr>\n",
              "    <tr>\n",
              "      <th>6</th>\n",
              "      <td>100007000.0</td>\n",
              "      <td>NaN</td>\n",
              "      <td>WASHINGTON</td>\n",
              "      <td>NaN</td>\n",
              "      <td>2.0</td>\n",
              "      <td>HURLEY</td>\n",
              "      <td>950.0</td>\n",
              "    </tr>\n",
              "    <tr>\n",
              "      <th>7</th>\n",
              "      <td>100008000.0</td>\n",
              "      <td>213.0</td>\n",
              "      <td>TREMONT</td>\n",
              "      <td>Y</td>\n",
              "      <td>1.0</td>\n",
              "      <td>1</td>\n",
              "      <td>NaN</td>\n",
              "    </tr>\n",
              "    <tr>\n",
              "      <th>8</th>\n",
              "      <td>100009000.0</td>\n",
              "      <td>215.0</td>\n",
              "      <td>TREMONT</td>\n",
              "      <td>Y</td>\n",
              "      <td>NaN</td>\n",
              "      <td>2</td>\n",
              "      <td>1800.0</td>\n",
              "    </tr>\n",
              "  </tbody>\n",
              "</table>\n",
              "</div>"
            ],
            "text/plain": [
              "           PID  ST_NUM     ST_NAME OWN_OCCUPIED  NUM_BEDROOMS NUM_BATH   SQ_FT\n",
              "0  100001000.0   104.0      PUTNAM            Y           3.0        1  1000.0\n",
              "1  100002000.0   197.0   LEXINGTON            N           3.0      1.5     NaN\n",
              "2  100003000.0     NaN   LEXINGTON            N           NaN        1   850.0\n",
              "3  100004000.0   201.0    BERKELEY           12           1.0      NaN   700.0\n",
              "4          NaN   203.0    BERKELEY            Y           3.0        2  1600.0\n",
              "5  100006000.0   207.0    BERKELEY            Y           NaN        1   800.0\n",
              "6  100007000.0     NaN  WASHINGTON          NaN           2.0   HURLEY   950.0\n",
              "7  100008000.0   213.0     TREMONT            Y           1.0        1     NaN\n",
              "8  100009000.0   215.0     TREMONT            Y           NaN        2  1800.0"
            ]
          },
          "metadata": {
            "tags": []
          },
          "execution_count": 78
        }
      ]
    },
    {
      "cell_type": "markdown",
      "metadata": {
        "id": "KSSnxqGcH4pc",
        "colab_type": "text"
      },
      "source": [
        "### <font color=\"green\">1.3 Challenges</font>"
      ]
    },
    {
      "cell_type": "code",
      "metadata": {
        "id": "YIeuI-bXH9ZX",
        "colab_type": "code",
        "outputId": "5da6ba35-ad5e-46f0-9dd9-ee7a73297cf4",
        "colab": {
          "base_uri": "https://localhost:8080/",
          "height": 748
        }
      },
      "source": [
        "# Challenge 1\n",
        "# Clean the following dataset that contains missing values\n",
        "# url = http://bit.ly/DSRussianInvestigation\n",
        "# \n",
        "df2=pd.read_csv('http://bit.ly/DSRussianInvestigation')\n",
        "print(df2)\n",
        "\n",
        "print(df2.count()) \n",
        "\n",
        "df2.isnull().any()\n",
        "\n",
        "df2.isnull().sum()\n",
        "\n",
        "print(df2.isnull().sum().sum())\n",
        "\n",
        "clean_df2=df2.dropna()\n",
        "print(clean_df2)\n"
      ],
      "execution_count": 0,
      "outputs": [
        {
          "output_type": "stream",
          "text": [
            "    investigation investigation-start  ... american      president\n",
            "0       watergate          1973-05-19  ...     True  Richard Nixon\n",
            "1       watergate          1973-05-19  ...     True  Richard Nixon\n",
            "2       watergate          1973-05-19  ...     True  Richard Nixon\n",
            "3       watergate          1973-05-19  ...     True  Richard Nixon\n",
            "4       watergate          1973-05-19  ...     True  Richard Nixon\n",
            "..            ...                 ...  ...      ...            ...\n",
            "189        russia          2017-05-17  ...    False   Donald Trump\n",
            "190        russia          2017-05-17  ...    False   Donald Trump\n",
            "191        russia          2017-05-17  ...    False   Donald Trump\n",
            "192        russia          2017-05-17  ...     True   Donald Trump\n",
            "193        russia          2017-05-17  ...     True   Donald Trump\n",
            "\n",
            "[194 rows x 13 columns]\n",
            "investigation          194\n",
            "investigation-start    194\n",
            "investigation-end      160\n",
            "investigation-days     194\n",
            "name                   181\n",
            "indictment-days        181\n",
            "type                   181\n",
            "cp-date                126\n",
            "cp-days                123\n",
            "overturned             194\n",
            "pardoned               194\n",
            "american               194\n",
            "president              194\n",
            "dtype: int64\n",
            "212\n",
            "    investigation investigation-start  ... american       president\n",
            "0       watergate          1973-05-19  ...     True   Richard Nixon\n",
            "1       watergate          1973-05-19  ...     True   Richard Nixon\n",
            "2       watergate          1973-05-19  ...     True   Richard Nixon\n",
            "3       watergate          1973-05-19  ...     True   Richard Nixon\n",
            "4       watergate          1973-05-19  ...     True   Richard Nixon\n",
            "..            ...                 ...  ...      ...             ...\n",
            "148      cisneros          1995-05-24  ...     True    Bill Clinton\n",
            "149      cisneros          1995-05-24  ...     True    Bill Clinton\n",
            "150      cisneros          1995-05-24  ...     True    Bill Clinton\n",
            "151      cisneros          1995-05-24  ...     True    Bill Clinton\n",
            "159         plame          2003-12-31  ...     True  George W. Bush\n",
            "\n",
            "[116 rows x 13 columns]\n"
          ],
          "name": "stdout"
        }
      ]
    },
    {
      "cell_type": "code",
      "metadata": {
        "id": "eErv30zQH-gS",
        "colab_type": "code",
        "colab": {}
      },
      "source": [
        "# Challenge 2\n",
        "# Examine and clean the avengers dataset\n",
        "# http://bit.ly/MSAvengers\n",
        "# \n",
        "\n",
        "df3=pd.read_csv('http://bit.ly/MSAvengers')\n",
        "df3"
      ],
      "execution_count": 0,
      "outputs": []
    },
    {
      "cell_type": "code",
      "metadata": {
        "id": "RMR09nkWH_vH",
        "colab_type": "code",
        "outputId": "02138400-a79d-4602-d6c2-3282de03a252",
        "colab": {
          "base_uri": "https://localhost:8080/",
          "height": 272
        }
      },
      "source": [
        "# Challenge 3\n",
        "# Clean the dataset where 16 multiple choice ability items were taken from the Synthetic Aperture Personality Assessment (SAPA)\n",
        "# web based personality assessment project. The data from 1525 subjects are included as a demonstration \n",
        "# set for scoring multiple choice inventories and doing basic item statistics.\n",
        "# dataset url = http://bit.ly/MSIQQuestions\n",
        "#\n",
        "df4=pd.read_csv('http://bit.ly/MSIQQuestions')\n",
        "df4.isnull().sum()\n",
        "\n",
        "clean_df4=df4.dropna()\n",
        "print(clean_df4)\n",
        "\n",
        "print(clean_df4.isnull().sum().sum())"
      ],
      "execution_count": 0,
      "outputs": [
        {
          "output_type": "stream",
          "text": [
            "      Unnamed: 0  reason.4  reason.16  ...  rotate.4  rotate.6  rotate.8\n",
            "0              5       3.0        3.0  ...       6.0       5.0       5.0\n",
            "1              6       3.0        3.0  ...       5.0       6.0       1.0\n",
            "2              7       3.0        4.0  ...       8.0       8.0       8.0\n",
            "3              8       4.0        0.0  ...       7.0       1.0       6.0\n",
            "4              9       0.0        4.0  ...       7.0       1.0       6.0\n",
            "...          ...       ...        ...  ...       ...       ...       ...\n",
            "1520        1838       4.0        4.0  ...       2.0       6.0       7.0\n",
            "1521        1839       4.0        4.0  ...       2.0       6.0       7.0\n",
            "1522        1840       2.0        4.0  ...       7.0       1.0       2.0\n",
            "1523        1841       4.0        4.0  ...       4.0       4.0       4.0\n",
            "1524        1843       4.0        4.0  ...       4.0       4.0       8.0\n",
            "\n",
            "[1523 rows x 17 columns]\n",
            "0\n"
          ],
          "name": "stdout"
        }
      ]
    },
    {
      "cell_type": "code",
      "metadata": {
        "id": "cxSSVFTGRbrq",
        "colab_type": "code",
        "outputId": "26fd53c9-4ed4-446b-f286-a207482afa53",
        "colab": {
          "base_uri": "https://localhost:8080/",
          "height": 221
        }
      },
      "source": [
        "# Challenge 4\n",
        "# The dataset below contains data from an experiment conducted by the Department of Biology \n",
        "# at Kenyon College at a site near the campus in Gambier, Ohio. A student and faculty volunteers \n",
        "# planted 1000 white pine (Pinus strobes) seedlings at the Brown Family Environmental Center. \n",
        "# These seedlings were planted in two grids, distinguished by 10- and 15-foot spacings between the seedlings. \n",
        "# Several variables were measured and recorded for each seedling over time (in 1990, 1996, and 1997).\n",
        "# Handle the missing values of this dataset; dataset url = http://bit.ly/MSPines\n",
        "# \n",
        "# Features Description\n",
        "# Row\tRow number in pine plantation\n",
        "# Col\tColumn number in pine plantation\n",
        "# Hgt90\tTree height at time of planting (cm)\n",
        "# Hgt96\tTree height in September 1996 (cm)\n",
        "# Diam96\tTree trunk diameter in September 1996 (cm)\n",
        "# Grow96\tLeader growth during 1996 (cm)\n",
        "# Hgt97\tTree height in September 1997 (cm)\n",
        "# Diam97\tTree trunk diameter in September 1997 (cm)\n",
        "# Spread97\tWidest lateral spread in September 1997 (cm)\n",
        "# Needles97\tNeedle length in September 1997 (mm)\n",
        "# Deer95\tType of deer damage in September 1995: 0 = none, 1 = browsed\n",
        "# Deer97\tType of deer damage in September 1997: 0 = none, 1 = browsed\n",
        "# Cover95\tThorny cover in September 1995: 0 = none; 1 = some; 2 = moderate; 3 = lots\n",
        "# Fert\tIndicator for fertilizer: 0 = no, 1 = yes\n",
        "# Spacing\tDistance (in feet) between trees (10 or 15)\n",
        "#\n",
        "df5=pd.read_csv('http://bit.ly/MSPines')\n",
        "df5\n",
        "\n",
        "#df5.isnull().any()\n",
        "#df5.isnull().sum()\n",
        "df5 = df5['Hgt90'].fillna((df5['Hgt90'].mean()))\n",
        "\n",
        "print(df5)\n",
        "# imputing the mean \n",
        "#subjects_df_mean['Score'] = subjects_df_mean['Score'].fillna((subjects_df_mean['Score'].mean()))\n",
        "\n",
        "# printing out our updated dataframe\n",
        "#print(subjects_df_mean)"
      ],
      "execution_count": 0,
      "outputs": [
        {
          "output_type": "stream",
          "text": [
            "0      19.200611\n",
            "1      14.000000\n",
            "2      17.000000\n",
            "3      19.200611\n",
            "4      24.000000\n",
            "         ...    \n",
            "995    17.000000\n",
            "996    20.000000\n",
            "997    11.000000\n",
            "998    19.000000\n",
            "999    19.200611\n",
            "Name: Hgt90, Length: 1000, dtype: float64\n"
          ],
          "name": "stdout"
        }
      ]
    },
    {
      "cell_type": "code",
      "metadata": {
        "id": "qa4yJjQQnIfK",
        "colab_type": "code",
        "colab": {}
      },
      "source": [
        "df5 = df5['Hgt96'].fillna((df5['Hgt96'].mean()))\n",
        "\n",
        "print(df5)"
      ],
      "execution_count": 0,
      "outputs": []
    },
    {
      "cell_type": "code",
      "metadata": {
        "id": "12QcGkaPUEVN",
        "colab_type": "code",
        "outputId": "422ac7c8-68a2-412d-f63d-a8962923923f",
        "colab": {
          "base_uri": "https://localhost:8080/",
          "height": 238
        }
      },
      "source": [
        "# Challenge 5\n",
        "# Some geologists were interested in the water chemistry of rivers in Coastal New York. \n",
        "# They took water samples at three different locations in four rivers. \n",
        "# The sampling sites were chosen to investigate how the composition of the water changes \n",
        "# as it flows from the source to the mouth of each river. \n",
        "# The sampling sites were labeled as upstream, midstream, and downstream. \n",
        "# This dataset contains the concentrations (parts per million) of a variety of elements in those water samples. \n",
        "# The dataset RiverIron contains the information for iron (FE) alone, along with the log of the concentration.\n",
        "# Handle the missing values found in this dataset; dataset url = http://bit.ly/MSRiverSamples\n",
        "\n",
        "# Features Description\n",
        "# River\tOne of four rivers: Grasse, Oswegatchie, Raquette, or St. Regis\n",
        "# Site\tLocation: 1=UpStream, 2=MidStream, 3=Downstream\n",
        "# Al\tAluminum\n",
        "# Ba\tBarium\n",
        "# Br\tBromine\n",
        "# Ca\tCalcium\n",
        "# Ce\tCerium\n",
        "# Cu\tCopper\n",
        "# Dy\tDysprosium\n",
        "# Er\tErbim\n",
        "# Fe\tIron\n",
        "# Gd\tGadolinium\n",
        "# Ho\tHolmum\n",
        "# K\tPotassium\n",
        "# La\tLathanum\n",
        "# Li\tLithium\n",
        "# Mg\tMagnesium\n",
        "# Mn\tManganese\n",
        "# Nd\tNeodymium\n",
        "# Pr\tProseyodymium\n",
        "# Rb\tRubidium\n",
        "# Si\tSilicon\n",
        "# Sr\tStrontium\n",
        "# Y\tYttrium\n",
        "# Yb\tYtterbium\n",
        "# Zn\tZinc\n",
        "# Zr\tZirconium\n",
        "#\n",
        "df6=pd.read_csv('http://bit.ly/MSRiverSamples')\n",
        "df6\n",
        "#df6.isnull().any()-Ho\n",
        "df6=df6['Ho'].fillna((df6['Ho'].mean()))\n",
        "df6\n"
      ],
      "execution_count": 0,
      "outputs": [
        {
          "output_type": "execute_result",
          "data": {
            "text/plain": [
              "0     0.040000\n",
              "1     0.040000\n",
              "2     0.020000\n",
              "3     0.050000\n",
              "4     0.020000\n",
              "5     0.010000\n",
              "6     0.010000\n",
              "7     0.010000\n",
              "8     0.024545\n",
              "9     0.030000\n",
              "10    0.020000\n",
              "11    0.020000\n",
              "Name: Ho, dtype: float64"
            ]
          },
          "metadata": {
            "tags": []
          },
          "execution_count": 101
        }
      ]
    },
    {
      "cell_type": "markdown",
      "metadata": {
        "id": "Wus-RyPhx2k2",
        "colab_type": "text"
      },
      "source": [
        "## 1.4 Consistency"
      ]
    },
    {
      "cell_type": "code",
      "metadata": {
        "id": "EhBEUGcTx78K",
        "colab_type": "code",
        "outputId": "458b4350-e12e-4cb3-f924-ceb51b4308ee",
        "colab": {
          "base_uri": "https://localhost:8080/",
          "height": 238
        }
      },
      "source": [
        "# Example 1: Duplicates\n",
        "# Duplicates are data points that are repeated in your dataset. \n",
        "# These should be simply removed.\n",
        "#\n",
        "\n",
        "raw_data = {'first_name': ['Jamila', 'Jamila', 'Jane','Joma', 'Ulia', 'Dorcas'], \n",
        "        'last_name': ['Mohammed', 'Mohammed', 'Milner','Tech', 'Shevchenko', 'Wanjiru'], \n",
        "        'age': [52, 52, 43, 77, 25, 19], \n",
        "        'pre_assessment': [5, 5, 5, 43, 5, 2],\n",
        "        'post_assessment': [35, 35, 25, 57, 72, 71]}\n",
        "df_duplicate = pd.DataFrame(raw_data, columns = ['first_name', 'last_name', 'age', 'pre_assessment', 'post_assessment'])\n",
        "print(df_duplicate)\n",
        "\n",
        "\n",
        "# Identifying which observations are duplicates\n",
        "df_non_duplicates = df_duplicate.drop_duplicates()\n",
        "\n",
        "# Let's see these non-duplicate files\n",
        "print(df_non_duplicates)"
      ],
      "execution_count": 0,
      "outputs": [
        {
          "output_type": "stream",
          "text": [
            "  first_name   last_name  age  pre_assessment  post_assessment\n",
            "0     Jamila    Mohammed   52               5               35\n",
            "1     Jamila    Mohammed   52               5               35\n",
            "2       Jane      Milner   43               5               25\n",
            "3       Joma        Tech   77              43               57\n",
            "4       Ulia  Shevchenko   25               5               72\n",
            "5     Dorcas     Wanjiru   19               2               71\n",
            "  first_name   last_name  age  pre_assessment  post_assessment\n",
            "0     Jamila    Mohammed   52               5               35\n",
            "2       Jane      Milner   43               5               25\n",
            "3       Joma        Tech   77              43               57\n",
            "4       Ulia  Shevchenko   25               5               72\n",
            "5     Dorcas     Wanjiru   19               2               71\n"
          ],
          "name": "stdout"
        }
      ]
    },
    {
      "cell_type": "markdown",
      "metadata": {
        "id": "vvxGZOoWXnmy",
        "colab_type": "text"
      },
      "source": [
        "### <font color=\"green\">1.4 Challenges</font>"
      ]
    },
    {
      "cell_type": "code",
      "metadata": {
        "id": "grvCd8d0XuCC",
        "colab_type": "code",
        "outputId": "d80e7865-f1f3-4c4c-c901-b21276408d08",
        "colab": {
          "base_uri": "https://localhost:8080/",
          "height": 877
        }
      },
      "source": [
        "# Challenge  1\n",
        "# Identify and handle the duplicted records found in the following dataset\n",
        "# dataset url = http://bit.ly/MoviesDataset1\n",
        "# \n",
        "df8=pd.read_csv('http://bit.ly/MoviesDataset1')\n",
        "df8\n",
        "df8_non=df8.drop_duplicates()\n",
        "df8_non"
      ],
      "execution_count": 0,
      "outputs": [
        {
          "output_type": "execute_result",
          "data": {
            "text/html": [
              "<div>\n",
              "<style scoped>\n",
              "    .dataframe tbody tr th:only-of-type {\n",
              "        vertical-align: middle;\n",
              "    }\n",
              "\n",
              "    .dataframe tbody tr th {\n",
              "        vertical-align: top;\n",
              "    }\n",
              "\n",
              "    .dataframe thead th {\n",
              "        text-align: right;\n",
              "    }\n",
              "</style>\n",
              "<table border=\"1\" class=\"dataframe\">\n",
              "  <thead>\n",
              "    <tr style=\"text-align: right;\">\n",
              "      <th></th>\n",
              "      <th>movie_title</th>\n",
              "      <th>num_critic_for_reviews</th>\n",
              "      <th>duration</th>\n",
              "      <th>DIRECTOR_facebook_likes</th>\n",
              "      <th>actor_3_facebook_likes</th>\n",
              "      <th>ACTOR_1_facebook_likes</th>\n",
              "      <th>gross</th>\n",
              "      <th>num_voted_users</th>\n",
              "      <th>Cast_Total_facebook_likes</th>\n",
              "      <th>facenumber_in_poster</th>\n",
              "      <th>num_user_for_reviews</th>\n",
              "      <th>budget</th>\n",
              "      <th>title_year</th>\n",
              "      <th>ACTOR_2_facebook_likes</th>\n",
              "      <th>imdb_score</th>\n",
              "      <th>title_year.1</th>\n",
              "    </tr>\n",
              "  </thead>\n",
              "  <tbody>\n",
              "    <tr>\n",
              "      <th>0</th>\n",
              "      <td>Avatar?ÿ</td>\n",
              "      <td>723</td>\n",
              "      <td>178.0</td>\n",
              "      <td>10</td>\n",
              "      <td>855</td>\n",
              "      <td>1000</td>\n",
              "      <td>760505847</td>\n",
              "      <td>886204.0</td>\n",
              "      <td>4834.0</td>\n",
              "      <td>NaN</td>\n",
              "      <td>3054</td>\n",
              "      <td>237000000</td>\n",
              "      <td>2009</td>\n",
              "      <td>936.0</td>\n",
              "      <td>7.9</td>\n",
              "      <td>2009.0</td>\n",
              "    </tr>\n",
              "    <tr>\n",
              "      <th>1</th>\n",
              "      <td>Pirates of the Caribbean: At World's End?ÿ</td>\n",
              "      <td>302</td>\n",
              "      <td>NaN</td>\n",
              "      <td>563</td>\n",
              "      <td>1000</td>\n",
              "      <td>40000</td>\n",
              "      <td>309404152</td>\n",
              "      <td>471220.0</td>\n",
              "      <td>48350.0</td>\n",
              "      <td>NaN</td>\n",
              "      <td>1238</td>\n",
              "      <td>300000000</td>\n",
              "      <td>2007</td>\n",
              "      <td>5000.0</td>\n",
              "      <td>7.1</td>\n",
              "      <td>NaN</td>\n",
              "    </tr>\n",
              "    <tr>\n",
              "      <th>2</th>\n",
              "      <td>Spectre?ÿ</td>\n",
              "      <td>602</td>\n",
              "      <td>148.0</td>\n",
              "      <td>20</td>\n",
              "      <td>161</td>\n",
              "      <td>11000</td>\n",
              "      <td>200074175</td>\n",
              "      <td>275868.0</td>\n",
              "      <td>11700.0</td>\n",
              "      <td>1.0</td>\n",
              "      <td>994</td>\n",
              "      <td>245000000</td>\n",
              "      <td>2015</td>\n",
              "      <td>393.0</td>\n",
              "      <td>6.8</td>\n",
              "      <td>2015.0</td>\n",
              "    </tr>\n",
              "    <tr>\n",
              "      <th>3</th>\n",
              "      <td>The Dark Knight Rises?ÿ</td>\n",
              "      <td>813</td>\n",
              "      <td>NaN</td>\n",
              "      <td>22000</td>\n",
              "      <td>23000</td>\n",
              "      <td>27000</td>\n",
              "      <td>448130642</td>\n",
              "      <td>1144337.0</td>\n",
              "      <td>106759.0</td>\n",
              "      <td>NaN</td>\n",
              "      <td>2701</td>\n",
              "      <td>250000000</td>\n",
              "      <td>2012</td>\n",
              "      <td>23000.0</td>\n",
              "      <td>8.5</td>\n",
              "      <td>NaN</td>\n",
              "    </tr>\n",
              "    <tr>\n",
              "      <th>4</th>\n",
              "      <td>John Carter?ÿ</td>\n",
              "      <td>462</td>\n",
              "      <td>132.0</td>\n",
              "      <td>\"475\"</td>\n",
              "      <td>530</td>\n",
              "      <td>640</td>\n",
              "      <td>73058679</td>\n",
              "      <td>212204.0</td>\n",
              "      <td>1873.0</td>\n",
              "      <td>1.0</td>\n",
              "      <td>738</td>\n",
              "      <td>263700000</td>\n",
              "      <td>2012</td>\n",
              "      <td>632.0</td>\n",
              "      <td>6.6</td>\n",
              "      <td>NaN</td>\n",
              "    </tr>\n",
              "    <tr>\n",
              "      <th>5</th>\n",
              "      <td>Spider-Man 3?ÿ</td>\n",
              "      <td>392</td>\n",
              "      <td>156.0</td>\n",
              "      <td>23</td>\n",
              "      <td>4000</td>\n",
              "      <td>24000</td>\n",
              "      <td>336530303</td>\n",
              "      <td>383056.0</td>\n",
              "      <td>46055.0</td>\n",
              "      <td>NaN</td>\n",
              "      <td>1902</td>\n",
              "      <td>258000000</td>\n",
              "      <td>2007</td>\n",
              "      <td>11000.0</td>\n",
              "      <td>6.2</td>\n",
              "      <td>2007.0</td>\n",
              "    </tr>\n",
              "    <tr>\n",
              "      <th>6</th>\n",
              "      <td>Tangled?ÿ</td>\n",
              "      <td>324</td>\n",
              "      <td>NaN</td>\n",
              "      <td>15</td>\n",
              "      <td>284</td>\n",
              "      <td>799</td>\n",
              "      <td>200807262</td>\n",
              "      <td>294810.0</td>\n",
              "      <td>NaN</td>\n",
              "      <td>1.0</td>\n",
              "      <td>387</td>\n",
              "      <td>260000000</td>\n",
              "      <td>2010</td>\n",
              "      <td>553.0</td>\n",
              "      <td>7.8</td>\n",
              "      <td>NaN</td>\n",
              "    </tr>\n",
              "    <tr>\n",
              "      <th>7</th>\n",
              "      <td>Avengers: Age of Ultron?ÿ</td>\n",
              "      <td>635</td>\n",
              "      <td>141.0</td>\n",
              "      <td>10</td>\n",
              "      <td>19000</td>\n",
              "      <td>26000</td>\n",
              "      <td>458991599</td>\n",
              "      <td>462669.0</td>\n",
              "      <td>92000.0</td>\n",
              "      <td>4.0</td>\n",
              "      <td>1117</td>\n",
              "      <td>250000000</td>\n",
              "      <td>2015</td>\n",
              "      <td>21000.0</td>\n",
              "      <td>7.5</td>\n",
              "      <td>NaN</td>\n",
              "    </tr>\n",
              "    <tr>\n",
              "      <th>8</th>\n",
              "      <td>Avengers: Age of Ultron?ÿ</td>\n",
              "      <td>635</td>\n",
              "      <td>141.0</td>\n",
              "      <td>10</td>\n",
              "      <td>19000</td>\n",
              "      <td>26000</td>\n",
              "      <td>458991599</td>\n",
              "      <td>462669.0</td>\n",
              "      <td>92000.0</td>\n",
              "      <td>4.0</td>\n",
              "      <td>1117</td>\n",
              "      <td>250000000</td>\n",
              "      <td>2015</td>\n",
              "      <td>21000.0</td>\n",
              "      <td>7.5</td>\n",
              "      <td>2015.0</td>\n",
              "    </tr>\n",
              "    <tr>\n",
              "      <th>9</th>\n",
              "      <td>Harry Potter and the Half-Blood Prince?ÿ</td>\n",
              "      <td>375</td>\n",
              "      <td>153.0</td>\n",
              "      <td>282</td>\n",
              "      <td>10000</td>\n",
              "      <td>25000</td>\n",
              "      <td>301956980</td>\n",
              "      <td>321795.0</td>\n",
              "      <td>58753.0</td>\n",
              "      <td>3.0</td>\n",
              "      <td>973</td>\n",
              "      <td>250000000</td>\n",
              "      <td>2009</td>\n",
              "      <td>11000.0</td>\n",
              "      <td>7.5</td>\n",
              "      <td>NaN</td>\n",
              "    </tr>\n",
              "    <tr>\n",
              "      <th>10</th>\n",
              "      <td>Batman v Superman: Dawn of Justice?ÿ</td>\n",
              "      <td>673</td>\n",
              "      <td>183.0</td>\n",
              "      <td>NaN</td>\n",
              "      <td>2000</td>\n",
              "      <td>15000</td>\n",
              "      <td>330249062</td>\n",
              "      <td>NaN</td>\n",
              "      <td>24450.0</td>\n",
              "      <td>NaN</td>\n",
              "      <td>3018</td>\n",
              "      <td>250000000</td>\n",
              "      <td>2016</td>\n",
              "      <td>NaN</td>\n",
              "      <td>6.9</td>\n",
              "      <td>2016.0</td>\n",
              "    </tr>\n",
              "    <tr>\n",
              "      <th>11</th>\n",
              "      <td>Superman Returns?ÿ</td>\n",
              "      <td>434</td>\n",
              "      <td>169.0</td>\n",
              "      <td>NaN</td>\n",
              "      <td>903</td>\n",
              "      <td>18000</td>\n",
              "      <td>200069408</td>\n",
              "      <td>240396.0</td>\n",
              "      <td>NaN</td>\n",
              "      <td>2.0</td>\n",
              "      <td>2367</td>\n",
              "      <td>209000000</td>\n",
              "      <td>2006</td>\n",
              "      <td>10000.0</td>\n",
              "      <td>6.1</td>\n",
              "      <td>NaN</td>\n",
              "    </tr>\n",
              "    <tr>\n",
              "      <th>12</th>\n",
              "      <td>Quantum of Solace?ÿ</td>\n",
              "      <td>403</td>\n",
              "      <td>106.0</td>\n",
              "      <td>395</td>\n",
              "      <td>393</td>\n",
              "      <td>451</td>\n",
              "      <td>168368427</td>\n",
              "      <td>330784.0</td>\n",
              "      <td>2023.0</td>\n",
              "      <td>1.0</td>\n",
              "      <td>1243</td>\n",
              "      <td>200000000</td>\n",
              "      <td>2008</td>\n",
              "      <td>412.0</td>\n",
              "      <td>6.7</td>\n",
              "      <td>2008.0</td>\n",
              "    </tr>\n",
              "    <tr>\n",
              "      <th>13</th>\n",
              "      <td>Pirates of the Caribbean: Dead Man's Chest?ÿ</td>\n",
              "      <td>313</td>\n",
              "      <td>151.0</td>\n",
              "      <td>563</td>\n",
              "      <td>1000</td>\n",
              "      <td>40000</td>\n",
              "      <td>423032628</td>\n",
              "      <td>522040.0</td>\n",
              "      <td>48486.0</td>\n",
              "      <td>2.0</td>\n",
              "      <td>1832</td>\n",
              "      <td>225000000</td>\n",
              "      <td>2006</td>\n",
              "      <td>5000.0</td>\n",
              "      <td>7.3</td>\n",
              "      <td>2008.0</td>\n",
              "    </tr>\n",
              "  </tbody>\n",
              "</table>\n",
              "</div>"
            ],
            "text/plain": [
              "                                     movie_title  ...  title_year.1\n",
              "0                                       Avatar?ÿ  ...        2009.0\n",
              "1     Pirates of the Caribbean: At World's End?ÿ  ...           NaN\n",
              "2                                      Spectre?ÿ  ...        2015.0\n",
              "3                        The Dark Knight Rises?ÿ  ...           NaN\n",
              "4                                  John Carter?ÿ  ...           NaN\n",
              "5                                 Spider-Man 3?ÿ  ...        2007.0\n",
              "6                                      Tangled?ÿ  ...           NaN\n",
              "7                      Avengers: Age of Ultron?ÿ  ...           NaN\n",
              "8                      Avengers: Age of Ultron?ÿ  ...        2015.0\n",
              "9       Harry Potter and the Half-Blood Prince?ÿ  ...           NaN\n",
              "10          Batman v Superman: Dawn of Justice?ÿ  ...        2016.0\n",
              "11                            Superman Returns?ÿ  ...           NaN\n",
              "12                           Quantum of Solace?ÿ  ...        2008.0\n",
              "13  Pirates of the Caribbean: Dead Man's Chest?ÿ  ...        2008.0\n",
              "\n",
              "[14 rows x 16 columns]"
            ]
          },
          "metadata": {
            "tags": []
          },
          "execution_count": 113
        }
      ]
    },
    {
      "cell_type": "code",
      "metadata": {
        "id": "MQ0BKjhPXyhP",
        "colab_type": "code",
        "outputId": "f62f7fb5-6417-4c70-b748-9cfbfb60b3d8",
        "colab": {
          "base_uri": "https://localhost:8080/",
          "height": 419
        }
      },
      "source": [
        "# Clean the following dataset \n",
        "# dataset url = http://bit.ly/EmployeesDataset\n",
        "# \n",
        "df9=pd.read_csv('http://bit.ly/EmployeesDataset')\n",
        "df9\n",
        "df9_non=df9.drop_duplicates()\n",
        "df9_non\n"
      ],
      "execution_count": 0,
      "outputs": [
        {
          "output_type": "execute_result",
          "data": {
            "text/html": [
              "<div>\n",
              "<style scoped>\n",
              "    .dataframe tbody tr th:only-of-type {\n",
              "        vertical-align: middle;\n",
              "    }\n",
              "\n",
              "    .dataframe tbody tr th {\n",
              "        vertical-align: top;\n",
              "    }\n",
              "\n",
              "    .dataframe thead th {\n",
              "        text-align: right;\n",
              "    }\n",
              "</style>\n",
              "<table border=\"1\" class=\"dataframe\">\n",
              "  <thead>\n",
              "    <tr style=\"text-align: right;\">\n",
              "      <th></th>\n",
              "      <th>First Name</th>\n",
              "      <th>Gender</th>\n",
              "      <th>Start Date</th>\n",
              "      <th>Last Login Time</th>\n",
              "      <th>Salary</th>\n",
              "      <th>Bonus %</th>\n",
              "      <th>Senior Management</th>\n",
              "      <th>Team</th>\n",
              "    </tr>\n",
              "  </thead>\n",
              "  <tbody>\n",
              "    <tr>\n",
              "      <th>0</th>\n",
              "      <td>Douglas</td>\n",
              "      <td>Male</td>\n",
              "      <td>8/6/1993</td>\n",
              "      <td>12:42 PM</td>\n",
              "      <td>97308</td>\n",
              "      <td>6.945</td>\n",
              "      <td>True</td>\n",
              "      <td>Marketing</td>\n",
              "    </tr>\n",
              "    <tr>\n",
              "      <th>1</th>\n",
              "      <td>Thomas</td>\n",
              "      <td>Male</td>\n",
              "      <td>3/31/1996</td>\n",
              "      <td>6:53 AM</td>\n",
              "      <td>61933</td>\n",
              "      <td>4.170</td>\n",
              "      <td>True</td>\n",
              "      <td>NaN</td>\n",
              "    </tr>\n",
              "    <tr>\n",
              "      <th>2</th>\n",
              "      <td>Maria</td>\n",
              "      <td>Female</td>\n",
              "      <td>4/23/1993</td>\n",
              "      <td>11:17 AM</td>\n",
              "      <td>130590</td>\n",
              "      <td>11.858</td>\n",
              "      <td>False</td>\n",
              "      <td>Finance</td>\n",
              "    </tr>\n",
              "    <tr>\n",
              "      <th>3</th>\n",
              "      <td>Jerry</td>\n",
              "      <td>Male</td>\n",
              "      <td>3/4/2005</td>\n",
              "      <td>1:00 PM</td>\n",
              "      <td>138705</td>\n",
              "      <td>9.340</td>\n",
              "      <td>True</td>\n",
              "      <td>Finance</td>\n",
              "    </tr>\n",
              "    <tr>\n",
              "      <th>4</th>\n",
              "      <td>Larry</td>\n",
              "      <td>Male</td>\n",
              "      <td>1/24/1998</td>\n",
              "      <td>4:47 PM</td>\n",
              "      <td>101004</td>\n",
              "      <td>1.389</td>\n",
              "      <td>True</td>\n",
              "      <td>Client Services</td>\n",
              "    </tr>\n",
              "    <tr>\n",
              "      <th>...</th>\n",
              "      <td>...</td>\n",
              "      <td>...</td>\n",
              "      <td>...</td>\n",
              "      <td>...</td>\n",
              "      <td>...</td>\n",
              "      <td>...</td>\n",
              "      <td>...</td>\n",
              "      <td>...</td>\n",
              "    </tr>\n",
              "    <tr>\n",
              "      <th>995</th>\n",
              "      <td>Henry</td>\n",
              "      <td>NaN</td>\n",
              "      <td>11/23/2014</td>\n",
              "      <td>6:09 AM</td>\n",
              "      <td>132483</td>\n",
              "      <td>16.655</td>\n",
              "      <td>False</td>\n",
              "      <td>Distribution</td>\n",
              "    </tr>\n",
              "    <tr>\n",
              "      <th>996</th>\n",
              "      <td>Phillip</td>\n",
              "      <td>Male</td>\n",
              "      <td>1/31/1984</td>\n",
              "      <td>6:30 AM</td>\n",
              "      <td>42392</td>\n",
              "      <td>19.675</td>\n",
              "      <td>False</td>\n",
              "      <td>Finance</td>\n",
              "    </tr>\n",
              "    <tr>\n",
              "      <th>997</th>\n",
              "      <td>Russell</td>\n",
              "      <td>Male</td>\n",
              "      <td>5/20/2013</td>\n",
              "      <td>12:39 PM</td>\n",
              "      <td>96914</td>\n",
              "      <td>1.421</td>\n",
              "      <td>False</td>\n",
              "      <td>Product</td>\n",
              "    </tr>\n",
              "    <tr>\n",
              "      <th>998</th>\n",
              "      <td>Larry</td>\n",
              "      <td>Male</td>\n",
              "      <td>4/20/2013</td>\n",
              "      <td>4:45 PM</td>\n",
              "      <td>60500</td>\n",
              "      <td>11.985</td>\n",
              "      <td>False</td>\n",
              "      <td>Business Development</td>\n",
              "    </tr>\n",
              "    <tr>\n",
              "      <th>999</th>\n",
              "      <td>Albert</td>\n",
              "      <td>Male</td>\n",
              "      <td>5/15/2012</td>\n",
              "      <td>6:24 PM</td>\n",
              "      <td>129949</td>\n",
              "      <td>10.169</td>\n",
              "      <td>True</td>\n",
              "      <td>Sales</td>\n",
              "    </tr>\n",
              "  </tbody>\n",
              "</table>\n",
              "<p>1000 rows × 8 columns</p>\n",
              "</div>"
            ],
            "text/plain": [
              "    First Name  Gender  ... Senior Management                  Team\n",
              "0      Douglas    Male  ...              True             Marketing\n",
              "1       Thomas    Male  ...              True                   NaN\n",
              "2        Maria  Female  ...             False               Finance\n",
              "3        Jerry    Male  ...              True               Finance\n",
              "4        Larry    Male  ...              True       Client Services\n",
              "..         ...     ...  ...               ...                   ...\n",
              "995      Henry     NaN  ...             False          Distribution\n",
              "996    Phillip    Male  ...             False               Finance\n",
              "997    Russell    Male  ...             False               Product\n",
              "998      Larry    Male  ...             False  Business Development\n",
              "999     Albert    Male  ...              True                 Sales\n",
              "\n",
              "[1000 rows x 8 columns]"
            ]
          },
          "metadata": {
            "tags": []
          },
          "execution_count": 118
        }
      ]
    },
    {
      "cell_type": "code",
      "metadata": {
        "id": "dpxYJMDerXty",
        "colab_type": "code",
        "outputId": "7aaa33b9-434c-47e0-b7a9-25e1a1332ff2",
        "colab": {
          "base_uri": "https://localhost:8080/",
          "height": 170
        }
      },
      "source": [
        "df9_non.count()\n",
        "#df9_non.isnull().any()\n",
        "\n",
        "df9_non_fill=df9_non.fillna(method='ffill')\n",
        "df9_non_fill\n",
        "\n",
        "df9_non_fill.isnull().sum()\n",
        "\n",
        "#df_fill_forward = df.fillna(method='ffill')\n",
        "#df_fill_forward.head()"
      ],
      "execution_count": 0,
      "outputs": [
        {
          "output_type": "execute_result",
          "data": {
            "text/plain": [
              "First Name           0\n",
              "Gender               0\n",
              "Start Date           0\n",
              "Last Login Time      0\n",
              "Salary               0\n",
              "Bonus %              0\n",
              "Senior Management    0\n",
              "Team                 0\n",
              "dtype: int64"
            ]
          },
          "metadata": {
            "tags": []
          },
          "execution_count": 132
        }
      ]
    },
    {
      "cell_type": "markdown",
      "metadata": {
        "id": "o59W2bFhx_8k",
        "colab_type": "text"
      },
      "source": [
        "## 1.5 Uniformity"
      ]
    },
    {
      "cell_type": "code",
      "metadata": {
        "id": "EnpBH69HTLWe",
        "colab_type": "code",
        "outputId": "6bb0484e-5fe9-43a3-89a7-fa1a6a55ad09",
        "colab": {
          "base_uri": "https://localhost:8080/",
          "height": 221
        }
      },
      "source": [
        "# Example 1: Standardization - Renaming column names\n",
        "# We can rename multiple  data frame column names in the following manner\n",
        "# Create an example dataframe\n",
        "#\n",
        "officials_data = {'Moderator': ['Wanjiku', 'Muthoni', 'Kagure', 'Muema', 'Kariuki'], \n",
        "        'Date': ['2015-02-11', '2013-02-22', '2015-02-11', '2014-02-11', '2011-02-11'], \n",
        "        'Score': [14, 34, 41, 12, 13]}\n",
        "officials_data = pd.DataFrame(officials_data)\n",
        "print(officials_data)\n",
        "\n",
        "# Renaming the column names\n",
        "officials_data.columns = ['Senior Leader', 'Time', 'Score']\n",
        "print(officials_data)"
      ],
      "execution_count": 0,
      "outputs": [
        {
          "output_type": "stream",
          "text": [
            "  Moderator        Date  Score\n",
            "0   Wanjiku  2015-02-11     14\n",
            "1   Muthoni  2013-02-22     34\n",
            "2    Kagure  2015-02-11     41\n",
            "3     Muema  2014-02-11     12\n",
            "4   Kariuki  2011-02-11     13\n",
            "  Senior Leader        Time  Score\n",
            "0       Wanjiku  2015-02-11     14\n",
            "1       Muthoni  2013-02-22     34\n",
            "2        Kagure  2015-02-11     41\n",
            "3         Muema  2014-02-11     12\n",
            "4       Kariuki  2011-02-11     13\n"
          ],
          "name": "stdout"
        }
      ]
    },
    {
      "cell_type": "code",
      "metadata": {
        "id": "_wOLNaUFUy72",
        "colab_type": "code",
        "outputId": "f1ebe5ce-0909-4896-b87b-d97fcfb68fa8",
        "colab": {
          "base_uri": "https://localhost:8080/",
          "height": 119
        }
      },
      "source": [
        "# Example 2: Standardization - Fixing messy column names\n",
        "# Sometimes you might have column names which are uppercase, with spaces, \n",
        "# and whitespace all around. How do we fix this? \n",
        "# We use the .str method that we use on text data. \n",
        "# Ideally, we chain a bunch of .str functions as shown below; \n",
        "# \n",
        "\n",
        "# we use strip(), lower() and replace() functions\n",
        "# \n",
        "officials_data.columns = officials_data.columns.str.strip().str.lower().str.replace(' ', '_').str.replace('(', '').str.replace(')', '')\n",
        "print(officials_data)\n"
      ],
      "execution_count": 0,
      "outputs": [
        {
          "output_type": "stream",
          "text": [
            "  senior_leader        time  score\n",
            "0       Wanjiku  2015-02-11     14\n",
            "1       Muthoni  2013-02-22     34\n",
            "2        Kagure  2015-02-11     41\n",
            "3         Muema  2014-02-11     12\n",
            "4       Kariuki  2011-02-11     13\n"
          ],
          "name": "stdout"
        }
      ]
    },
    {
      "cell_type": "code",
      "metadata": {
        "id": "npCCbSYHyLJu",
        "colab_type": "code",
        "outputId": "24f987fa-0de5-45aa-dec0-e9eb8b872b73",
        "colab": {
          "base_uri": "https://localhost:8080/",
          "height": 357
        }
      },
      "source": [
        "# Example 3: Date Type Conversion\n",
        "# Make sure numbers are stored as numerical data types. \n",
        "# A date should be stored as a date object, or a Unix timestamp (number of seconds), and so on. \n",
        "# Making the respective conversion is advised.\n",
        "# \n",
        "\n",
        "# Let's convert our strings to Datetime data type\n",
        "# importing datatime module\n",
        "from datetime import datetime\n",
        "\n",
        "# Creating our data frame\n",
        "data = {'date': ['2015-05-01 18:47:05.069722', '2015-05-01 18:47:05.119994', \n",
        "                 '2015-05-02 18:47:05.178768', '2015-05-02 18:47:05.230071', \n",
        "                 '2015-05-02 18:47:05.230071', '2015-05-02 18:47:05.280592', \n",
        "                 '2015-05-03 18:47:05.332662', '2015-05-03 18:47:05.385109', \n",
        "                 '2015-05-04 18:47:05.436523', '2015-05-04 18:47:05.486877'], \n",
        "        'value': [1, 2, 4, 5, 6, 3, 2, 1, 15, 11]}\n",
        "df = pd.DataFrame(data, columns = ['date', 'value'])\n",
        "df\n",
        "# printing our dataframe\n",
        "print(df.info())\n",
        "\n",
        "# Converting date column from string to datetime\n",
        "df['date'] = pd.to_datetime(df['date']) \n",
        "\n",
        "# printing our updated dataframe\n",
        "print(df.info())"
      ],
      "execution_count": 0,
      "outputs": [
        {
          "output_type": "stream",
          "text": [
            "<class 'pandas.core.frame.DataFrame'>\n",
            "RangeIndex: 10 entries, 0 to 9\n",
            "Data columns (total 2 columns):\n",
            " #   Column  Non-Null Count  Dtype \n",
            "---  ------  --------------  ----- \n",
            " 0   date    10 non-null     object\n",
            " 1   value   10 non-null     int64 \n",
            "dtypes: int64(1), object(1)\n",
            "memory usage: 288.0+ bytes\n",
            "None\n",
            "<class 'pandas.core.frame.DataFrame'>\n",
            "RangeIndex: 10 entries, 0 to 9\n",
            "Data columns (total 2 columns):\n",
            " #   Column  Non-Null Count  Dtype         \n",
            "---  ------  --------------  -----         \n",
            " 0   date    10 non-null     datetime64[ns]\n",
            " 1   value   10 non-null     int64         \n",
            "dtypes: datetime64[ns](1), int64(1)\n",
            "memory usage: 288.0 bytes\n",
            "None\n"
          ],
          "name": "stdout"
        }
      ]
    },
    {
      "cell_type": "code",
      "metadata": {
        "id": "6vJvDVMWKanz",
        "colab_type": "code",
        "outputId": "cf21d7f6-8c51-4183-ba56-359431b77e04",
        "colab": {
          "base_uri": "https://localhost:8080/",
          "height": 1000
        }
      },
      "source": [
        "# Example 4: Data Type conversion\n",
        "# Sometimes, especially when we’re reading in a CSV with a bunch of numbers, \n",
        "# some of the numbers will read in as strings instead of numeric values, or vice versa. \n",
        "# Let's fix the release year to be a string and not a number;\n",
        "# In pandas, the datatype string appears as object\n",
        "# \n",
        "\n",
        "# First let's see how our datatypes appear while loading the dataset\n",
        "data = pd.read_csv('http://bit.ly/MovieMetaData')\n",
        "data['title_year'].head(5)\n",
        "print(data.info())\n",
        "\n",
        "# Now let's specify that our 'duration column needs to be an integer value'\n",
        "# Uncomment the lines below after running the previous lines\n",
        "data = pd.read_csv('http://bit.ly/MovieMetaData', dtype={'title_year': str})\n",
        "print(data.dtypes)"
      ],
      "execution_count": 0,
      "outputs": [
        {
          "output_type": "stream",
          "text": [
            "<class 'pandas.core.frame.DataFrame'>\n",
            "RangeIndex: 5043 entries, 0 to 5042\n",
            "Data columns (total 28 columns):\n",
            " #   Column                     Non-Null Count  Dtype  \n",
            "---  ------                     --------------  -----  \n",
            " 0   color                      5024 non-null   object \n",
            " 1   director_name              4939 non-null   object \n",
            " 2   num_critic_for_reviews     4993 non-null   float64\n",
            " 3   duration                   5028 non-null   float64\n",
            " 4   director_facebook_likes    4939 non-null   float64\n",
            " 5   actor_3_facebook_likes     5020 non-null   float64\n",
            " 6   actor_2_name               5030 non-null   object \n",
            " 7   actor_1_facebook_likes     5036 non-null   float64\n",
            " 8   gross                      4159 non-null   float64\n",
            " 9   genres                     5043 non-null   object \n",
            " 10  actor_1_name               5036 non-null   object \n",
            " 11  movie_title                5043 non-null   object \n",
            " 12  num_voted_users            5043 non-null   int64  \n",
            " 13  cast_total_facebook_likes  5043 non-null   int64  \n",
            " 14  actor_3_name               5020 non-null   object \n",
            " 15  facenumber_in_poster       5030 non-null   float64\n",
            " 16  plot_keywords              4890 non-null   object \n",
            " 17  movie_imdb_link            5043 non-null   object \n",
            " 18  num_user_for_reviews       5022 non-null   float64\n",
            " 19  language                   5031 non-null   object \n",
            " 20  country                    5038 non-null   object \n",
            " 21  content_rating             4740 non-null   object \n",
            " 22  budget                     4551 non-null   float64\n",
            " 23  title_year                 4935 non-null   float64\n",
            " 24  actor_2_facebook_likes     5030 non-null   float64\n",
            " 25  imdb_score                 5043 non-null   float64\n",
            " 26  aspect_ratio               4714 non-null   float64\n",
            " 27  movie_facebook_likes       5043 non-null   int64  \n",
            "dtypes: float64(13), int64(3), object(12)\n",
            "memory usage: 1.1+ MB\n",
            "None\n",
            "color                         object\n",
            "director_name                 object\n",
            "num_critic_for_reviews       float64\n",
            "duration                     float64\n",
            "director_facebook_likes      float64\n",
            "actor_3_facebook_likes       float64\n",
            "actor_2_name                  object\n",
            "actor_1_facebook_likes       float64\n",
            "gross                        float64\n",
            "genres                        object\n",
            "actor_1_name                  object\n",
            "movie_title                   object\n",
            "num_voted_users                int64\n",
            "cast_total_facebook_likes      int64\n",
            "actor_3_name                  object\n",
            "facenumber_in_poster         float64\n",
            "plot_keywords                 object\n",
            "movie_imdb_link               object\n",
            "num_user_for_reviews         float64\n",
            "language                      object\n",
            "country                       object\n",
            "content_rating                object\n",
            "budget                       float64\n",
            "title_year                    object\n",
            "actor_2_facebook_likes       float64\n",
            "imdb_score                   float64\n",
            "aspect_ratio                 float64\n",
            "movie_facebook_likes           int64\n",
            "dtype: object\n"
          ],
          "name": "stdout"
        }
      ]
    },
    {
      "cell_type": "markdown",
      "metadata": {
        "id": "1FQHRHC_QMJu",
        "colab_type": "text"
      },
      "source": [
        "### <font color=\"green\">1.5 Challenges</font>"
      ]
    },
    {
      "cell_type": "code",
      "metadata": {
        "id": "awCjhzV1amoK",
        "colab_type": "code",
        "outputId": "807f0c31-e5ac-4311-8f3b-19ae2cb173f6",
        "colab": {
          "base_uri": "https://localhost:8080/",
          "height": 204
        }
      },
      "source": [
        "# Challenge 1\n",
        "# Rename and fix the columns names of the following dataset\n",
        "# url = http://bit.ly/MSPropertyDataset\n",
        "# Columns = Street number, Street name, Owner Occupied, No. of Bedrooms\n",
        "# \n",
        "df10=pd.read_csv('http://bit.ly/MSPropertyDataset')\n",
        "df10.columns=['PID','Street number', 'Street name', 'Owner Occupied', 'No. of Bedrooms','Num_Bath', 'SQ_FT']\n",
        "df10.head(5)\n"
      ],
      "execution_count": 0,
      "outputs": [
        {
          "output_type": "execute_result",
          "data": {
            "text/html": [
              "<div>\n",
              "<style scoped>\n",
              "    .dataframe tbody tr th:only-of-type {\n",
              "        vertical-align: middle;\n",
              "    }\n",
              "\n",
              "    .dataframe tbody tr th {\n",
              "        vertical-align: top;\n",
              "    }\n",
              "\n",
              "    .dataframe thead th {\n",
              "        text-align: right;\n",
              "    }\n",
              "</style>\n",
              "<table border=\"1\" class=\"dataframe\">\n",
              "  <thead>\n",
              "    <tr style=\"text-align: right;\">\n",
              "      <th></th>\n",
              "      <th>PID</th>\n",
              "      <th>Street number</th>\n",
              "      <th>Street name</th>\n",
              "      <th>Owner Occupied</th>\n",
              "      <th>No. of Bedrooms</th>\n",
              "      <th>Num_Bath</th>\n",
              "      <th>SQ_FT</th>\n",
              "    </tr>\n",
              "  </thead>\n",
              "  <tbody>\n",
              "    <tr>\n",
              "      <th>0</th>\n",
              "      <td>100001000.0</td>\n",
              "      <td>104.0</td>\n",
              "      <td>PUTNAM</td>\n",
              "      <td>Y</td>\n",
              "      <td>3</td>\n",
              "      <td>1</td>\n",
              "      <td>1000</td>\n",
              "    </tr>\n",
              "    <tr>\n",
              "      <th>1</th>\n",
              "      <td>100002000.0</td>\n",
              "      <td>197.0</td>\n",
              "      <td>LEXINGTON</td>\n",
              "      <td>N</td>\n",
              "      <td>3</td>\n",
              "      <td>1.5</td>\n",
              "      <td>--</td>\n",
              "    </tr>\n",
              "    <tr>\n",
              "      <th>2</th>\n",
              "      <td>100003000.0</td>\n",
              "      <td>NaN</td>\n",
              "      <td>LEXINGTON</td>\n",
              "      <td>N</td>\n",
              "      <td>NaN</td>\n",
              "      <td>1</td>\n",
              "      <td>850</td>\n",
              "    </tr>\n",
              "    <tr>\n",
              "      <th>3</th>\n",
              "      <td>100004000.0</td>\n",
              "      <td>201.0</td>\n",
              "      <td>BERKELEY</td>\n",
              "      <td>12</td>\n",
              "      <td>1</td>\n",
              "      <td>NaN</td>\n",
              "      <td>700</td>\n",
              "    </tr>\n",
              "    <tr>\n",
              "      <th>4</th>\n",
              "      <td>NaN</td>\n",
              "      <td>203.0</td>\n",
              "      <td>BERKELEY</td>\n",
              "      <td>Y</td>\n",
              "      <td>3</td>\n",
              "      <td>2</td>\n",
              "      <td>1600</td>\n",
              "    </tr>\n",
              "  </tbody>\n",
              "</table>\n",
              "</div>"
            ],
            "text/plain": [
              "           PID  Street number Street name  ... No. of Bedrooms Num_Bath SQ_FT\n",
              "0  100001000.0          104.0      PUTNAM  ...               3        1  1000\n",
              "1  100002000.0          197.0   LEXINGTON  ...               3      1.5    --\n",
              "2  100003000.0            NaN   LEXINGTON  ...             NaN        1   850\n",
              "3  100004000.0          201.0    BERKELEY  ...               1      NaN   700\n",
              "4          NaN          203.0    BERKELEY  ...               3        2  1600\n",
              "\n",
              "[5 rows x 7 columns]"
            ]
          },
          "metadata": {
            "tags": []
          },
          "execution_count": 152
        }
      ]
    },
    {
      "cell_type": "code",
      "metadata": {
        "id": "HvBMDobHdH9v",
        "colab_type": "code",
        "outputId": "ecdeabb3-5376-4d18-fd47-e48399c9ea58",
        "colab": {
          "base_uri": "https://localhost:8080/",
          "height": 391
        }
      },
      "source": [
        "# Challenge 2\n",
        "# Convert the following dataframe column Data from string to datetime format\n",
        "# \n",
        "\n",
        "schedule_df = pd.DataFrame({'Date':['23/9/2011', '11/4/2010', '10/12/2019'], \n",
        "                'Event':['Music', 'Drama', 'Arts'], \n",
        "                'Cost':[17000, 55000, 25000]})\n",
        "schedule_df.columns=['Date', 'Event','Cost']\n",
        "schedule_df\n",
        "# printing our dataframe \n",
        "print(schedule_df.info())\n",
        "\n",
        "# Converting date column from string to datetime\n",
        "schedule_df['Date'] =pd.to_datetime(schedule_df['Date'])\n",
        "#df['date'] = pd.to_datetime(df['date']) \n",
        "\n",
        "# printing our updated dataframe\n",
        "print(schedule_df.info())\n",
        "#print(df.info())"
      ],
      "execution_count": 0,
      "outputs": [
        {
          "output_type": "stream",
          "text": [
            "<class 'pandas.core.frame.DataFrame'>\n",
            "RangeIndex: 3 entries, 0 to 2\n",
            "Data columns (total 3 columns):\n",
            " #   Column  Non-Null Count  Dtype \n",
            "---  ------  --------------  ----- \n",
            " 0   Date    3 non-null      object\n",
            " 1   Event   3 non-null      object\n",
            " 2   Cost    3 non-null      int64 \n",
            "dtypes: int64(1), object(2)\n",
            "memory usage: 200.0+ bytes\n",
            "None\n",
            "<class 'pandas.core.frame.DataFrame'>\n",
            "RangeIndex: 3 entries, 0 to 2\n",
            "Data columns (total 3 columns):\n",
            " #   Column  Non-Null Count  Dtype         \n",
            "---  ------  --------------  -----         \n",
            " 0   Date    3 non-null      datetime64[ns]\n",
            " 1   Event   3 non-null      object        \n",
            " 2   Cost    3 non-null      int64         \n",
            "dtypes: datetime64[ns](1), int64(1), object(1)\n",
            "memory usage: 200.0+ bytes\n",
            "None\n"
          ],
          "name": "stdout"
        }
      ]
    },
    {
      "cell_type": "code",
      "metadata": {
        "id": "wOVxciRxQRHU",
        "colab_type": "code",
        "outputId": "9b37c122-e84d-4d45-e146-96fd6908efb9",
        "colab": {
          "base_uri": "https://localhost:8080/",
          "height": 153
        }
      },
      "source": [
        "# Challenge 3\n",
        "# Work on converting the following data types from the given sales dataset\n",
        "# url = http://bit.ly/SalesDataset\n",
        "# - The Customer Number is a float64 but it should be an int64\n",
        "# - The 2016 and 2017 columns are stored as objects, not numerical values such as a float64 or int64\n",
        "# - Percent Growth and Jan Units are also stored as objects not numerical values\n",
        "# - Month, Day and Year columns that should be converted to datetime64\n",
        "# - Active column should be a boolean\n",
        "# We cannot work with this dataset until we clean up normalize the datatypes \n",
        "# A good example of this would be if we were to perform the following operation \n",
        "#\n",
        "\n",
        "# Loading our sales dataset\n",
        "sales_df = pd.read_csv(\"http://bit.ly/SalesDataset\")\n",
        "sales_df\n",
        "# and then perform some operation reveals a problem\n",
        "#sales_df['2016'] + sales_df['2017'] \n",
        "\n",
        "# Performing our conversion below\n",
        "# The Customer Number is a float64 but it should be an int64\n",
        "sales_df = pd.read_csv(\"http://bit.ly/SalesDataset\", dtype={'Customer Number': int})\n",
        "\n",
        "#sales_df = pd.read_csv(\"http://bit.ly/SalesDataset\", dtype={'2016': int})\n",
        "print(sales_df)\n",
        "\n"
      ],
      "execution_count": 0,
      "outputs": [
        {
          "output_type": "stream",
          "text": [
            "   Customer Number     Customer Name         2016  ... Day  Year Active\n",
            "0            10002  Quest Industries  $125,000.00  ...  10  2015      Y\n",
            "1           552278    Smith Plumbing  $920,000.00  ...  15  2014      Y\n",
            "2            23477   ACME Industrial   $50,000.00  ...  29  2016      Y\n",
            "3            24900        Brekke LTD  $350,000.00  ...  27  2015      Y\n",
            "4           651029         Harbor Co   $15,000.00  ...   2  2014      N\n",
            "\n",
            "[5 rows x 10 columns]\n"
          ],
          "name": "stdout"
        }
      ]
    },
    {
      "cell_type": "code",
      "metadata": {
        "id": "mXNPe_I8EbhB",
        "colab_type": "code",
        "colab": {}
      },
      "source": [
        "\n",
        "sales_df['Month','Day','Year'] =pd.to_datetime(schedule_df['Month','Day','Year'])\n",
        "print(sales_df)"
      ],
      "execution_count": 0,
      "outputs": []
    },
    {
      "cell_type": "code",
      "metadata": {
        "id": "R1jyCLKTGxaw",
        "colab_type": "code",
        "colab": {}
      },
      "source": [
        ""
      ],
      "execution_count": 0,
      "outputs": []
    }
  ]
}